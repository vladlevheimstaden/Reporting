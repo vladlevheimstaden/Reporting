{
 "cells": [
  {
   "cell_type": "code",
   "execution_count": 38,
   "metadata": {},
   "outputs": [
    {
     "data": {
      "application/vnd.plotly.v1+json": {
       "config": {
        "plotlyServerURL": "https://plot.ly"
       },
       "data": [
        {
         "marker": {
          "color": "salmon"
         },
         "name": "Heating Consumption",
         "type": "bar",
         "width": 0.4,
         "x": [
          "Jan",
          "Feb",
          "Mar",
          "Apr",
          "May",
          "Jun",
          "Jul",
          "Aug",
          "Sep",
          "Oct",
          "Nov",
          "Dec"
         ],
         "y": [
          27158118,
          22426703,
          10538061,
          9365384,
          10061521,
          14044455,
          9433463,
          null,
          null,
          null,
          null,
          null
         ]
        }
       ],
       "layout": {
        "annotations": [
         {
          "font": {
           "size": 14
          },
          "showarrow": false,
          "text": "kWh",
          "x": 0,
          "xref": "paper",
          "y": 1.1,
          "yref": "paper"
         }
        ],
        "bargap": 0.5,
        "font": {
         "size": 14
        },
        "height": 500,
        "margin": {
         "b": 50,
         "l": 50,
         "r": 50,
         "t": 100
        },
        "plot_bgcolor": "white",
        "template": {
         "data": {
          "bar": [
           {
            "error_x": {
             "color": "#2a3f5f"
            },
            "error_y": {
             "color": "#2a3f5f"
            },
            "marker": {
             "line": {
              "color": "#E5ECF6",
              "width": 0.5
             },
             "pattern": {
              "fillmode": "overlay",
              "size": 10,
              "solidity": 0.2
             }
            },
            "type": "bar"
           }
          ],
          "barpolar": [
           {
            "marker": {
             "line": {
              "color": "#E5ECF6",
              "width": 0.5
             },
             "pattern": {
              "fillmode": "overlay",
              "size": 10,
              "solidity": 0.2
             }
            },
            "type": "barpolar"
           }
          ],
          "carpet": [
           {
            "aaxis": {
             "endlinecolor": "#2a3f5f",
             "gridcolor": "white",
             "linecolor": "white",
             "minorgridcolor": "white",
             "startlinecolor": "#2a3f5f"
            },
            "baxis": {
             "endlinecolor": "#2a3f5f",
             "gridcolor": "white",
             "linecolor": "white",
             "minorgridcolor": "white",
             "startlinecolor": "#2a3f5f"
            },
            "type": "carpet"
           }
          ],
          "choropleth": [
           {
            "colorbar": {
             "outlinewidth": 0,
             "ticks": ""
            },
            "type": "choropleth"
           }
          ],
          "contour": [
           {
            "colorbar": {
             "outlinewidth": 0,
             "ticks": ""
            },
            "colorscale": [
             [
              0,
              "#0d0887"
             ],
             [
              0.1111111111111111,
              "#46039f"
             ],
             [
              0.2222222222222222,
              "#7201a8"
             ],
             [
              0.3333333333333333,
              "#9c179e"
             ],
             [
              0.4444444444444444,
              "#bd3786"
             ],
             [
              0.5555555555555556,
              "#d8576b"
             ],
             [
              0.6666666666666666,
              "#ed7953"
             ],
             [
              0.7777777777777778,
              "#fb9f3a"
             ],
             [
              0.8888888888888888,
              "#fdca26"
             ],
             [
              1,
              "#f0f921"
             ]
            ],
            "type": "contour"
           }
          ],
          "contourcarpet": [
           {
            "colorbar": {
             "outlinewidth": 0,
             "ticks": ""
            },
            "type": "contourcarpet"
           }
          ],
          "heatmap": [
           {
            "colorbar": {
             "outlinewidth": 0,
             "ticks": ""
            },
            "colorscale": [
             [
              0,
              "#0d0887"
             ],
             [
              0.1111111111111111,
              "#46039f"
             ],
             [
              0.2222222222222222,
              "#7201a8"
             ],
             [
              0.3333333333333333,
              "#9c179e"
             ],
             [
              0.4444444444444444,
              "#bd3786"
             ],
             [
              0.5555555555555556,
              "#d8576b"
             ],
             [
              0.6666666666666666,
              "#ed7953"
             ],
             [
              0.7777777777777778,
              "#fb9f3a"
             ],
             [
              0.8888888888888888,
              "#fdca26"
             ],
             [
              1,
              "#f0f921"
             ]
            ],
            "type": "heatmap"
           }
          ],
          "heatmapgl": [
           {
            "colorbar": {
             "outlinewidth": 0,
             "ticks": ""
            },
            "colorscale": [
             [
              0,
              "#0d0887"
             ],
             [
              0.1111111111111111,
              "#46039f"
             ],
             [
              0.2222222222222222,
              "#7201a8"
             ],
             [
              0.3333333333333333,
              "#9c179e"
             ],
             [
              0.4444444444444444,
              "#bd3786"
             ],
             [
              0.5555555555555556,
              "#d8576b"
             ],
             [
              0.6666666666666666,
              "#ed7953"
             ],
             [
              0.7777777777777778,
              "#fb9f3a"
             ],
             [
              0.8888888888888888,
              "#fdca26"
             ],
             [
              1,
              "#f0f921"
             ]
            ],
            "type": "heatmapgl"
           }
          ],
          "histogram": [
           {
            "marker": {
             "pattern": {
              "fillmode": "overlay",
              "size": 10,
              "solidity": 0.2
             }
            },
            "type": "histogram"
           }
          ],
          "histogram2d": [
           {
            "colorbar": {
             "outlinewidth": 0,
             "ticks": ""
            },
            "colorscale": [
             [
              0,
              "#0d0887"
             ],
             [
              0.1111111111111111,
              "#46039f"
             ],
             [
              0.2222222222222222,
              "#7201a8"
             ],
             [
              0.3333333333333333,
              "#9c179e"
             ],
             [
              0.4444444444444444,
              "#bd3786"
             ],
             [
              0.5555555555555556,
              "#d8576b"
             ],
             [
              0.6666666666666666,
              "#ed7953"
             ],
             [
              0.7777777777777778,
              "#fb9f3a"
             ],
             [
              0.8888888888888888,
              "#fdca26"
             ],
             [
              1,
              "#f0f921"
             ]
            ],
            "type": "histogram2d"
           }
          ],
          "histogram2dcontour": [
           {
            "colorbar": {
             "outlinewidth": 0,
             "ticks": ""
            },
            "colorscale": [
             [
              0,
              "#0d0887"
             ],
             [
              0.1111111111111111,
              "#46039f"
             ],
             [
              0.2222222222222222,
              "#7201a8"
             ],
             [
              0.3333333333333333,
              "#9c179e"
             ],
             [
              0.4444444444444444,
              "#bd3786"
             ],
             [
              0.5555555555555556,
              "#d8576b"
             ],
             [
              0.6666666666666666,
              "#ed7953"
             ],
             [
              0.7777777777777778,
              "#fb9f3a"
             ],
             [
              0.8888888888888888,
              "#fdca26"
             ],
             [
              1,
              "#f0f921"
             ]
            ],
            "type": "histogram2dcontour"
           }
          ],
          "mesh3d": [
           {
            "colorbar": {
             "outlinewidth": 0,
             "ticks": ""
            },
            "type": "mesh3d"
           }
          ],
          "parcoords": [
           {
            "line": {
             "colorbar": {
              "outlinewidth": 0,
              "ticks": ""
             }
            },
            "type": "parcoords"
           }
          ],
          "pie": [
           {
            "automargin": true,
            "type": "pie"
           }
          ],
          "scatter": [
           {
            "fillpattern": {
             "fillmode": "overlay",
             "size": 10,
             "solidity": 0.2
            },
            "type": "scatter"
           }
          ],
          "scatter3d": [
           {
            "line": {
             "colorbar": {
              "outlinewidth": 0,
              "ticks": ""
             }
            },
            "marker": {
             "colorbar": {
              "outlinewidth": 0,
              "ticks": ""
             }
            },
            "type": "scatter3d"
           }
          ],
          "scattercarpet": [
           {
            "marker": {
             "colorbar": {
              "outlinewidth": 0,
              "ticks": ""
             }
            },
            "type": "scattercarpet"
           }
          ],
          "scattergeo": [
           {
            "marker": {
             "colorbar": {
              "outlinewidth": 0,
              "ticks": ""
             }
            },
            "type": "scattergeo"
           }
          ],
          "scattergl": [
           {
            "marker": {
             "colorbar": {
              "outlinewidth": 0,
              "ticks": ""
             }
            },
            "type": "scattergl"
           }
          ],
          "scattermapbox": [
           {
            "marker": {
             "colorbar": {
              "outlinewidth": 0,
              "ticks": ""
             }
            },
            "type": "scattermapbox"
           }
          ],
          "scatterpolar": [
           {
            "marker": {
             "colorbar": {
              "outlinewidth": 0,
              "ticks": ""
             }
            },
            "type": "scatterpolar"
           }
          ],
          "scatterpolargl": [
           {
            "marker": {
             "colorbar": {
              "outlinewidth": 0,
              "ticks": ""
             }
            },
            "type": "scatterpolargl"
           }
          ],
          "scatterternary": [
           {
            "marker": {
             "colorbar": {
              "outlinewidth": 0,
              "ticks": ""
             }
            },
            "type": "scatterternary"
           }
          ],
          "surface": [
           {
            "colorbar": {
             "outlinewidth": 0,
             "ticks": ""
            },
            "colorscale": [
             [
              0,
              "#0d0887"
             ],
             [
              0.1111111111111111,
              "#46039f"
             ],
             [
              0.2222222222222222,
              "#7201a8"
             ],
             [
              0.3333333333333333,
              "#9c179e"
             ],
             [
              0.4444444444444444,
              "#bd3786"
             ],
             [
              0.5555555555555556,
              "#d8576b"
             ],
             [
              0.6666666666666666,
              "#ed7953"
             ],
             [
              0.7777777777777778,
              "#fb9f3a"
             ],
             [
              0.8888888888888888,
              "#fdca26"
             ],
             [
              1,
              "#f0f921"
             ]
            ],
            "type": "surface"
           }
          ],
          "table": [
           {
            "cells": {
             "fill": {
              "color": "#EBF0F8"
             },
             "line": {
              "color": "white"
             }
            },
            "header": {
             "fill": {
              "color": "#C8D4E3"
             },
             "line": {
              "color": "white"
             }
            },
            "type": "table"
           }
          ]
         },
         "layout": {
          "annotationdefaults": {
           "arrowcolor": "#2a3f5f",
           "arrowhead": 0,
           "arrowwidth": 1
          },
          "autotypenumbers": "strict",
          "coloraxis": {
           "colorbar": {
            "outlinewidth": 0,
            "ticks": ""
           }
          },
          "colorscale": {
           "diverging": [
            [
             0,
             "#8e0152"
            ],
            [
             0.1,
             "#c51b7d"
            ],
            [
             0.2,
             "#de77ae"
            ],
            [
             0.3,
             "#f1b6da"
            ],
            [
             0.4,
             "#fde0ef"
            ],
            [
             0.5,
             "#f7f7f7"
            ],
            [
             0.6,
             "#e6f5d0"
            ],
            [
             0.7,
             "#b8e186"
            ],
            [
             0.8,
             "#7fbc41"
            ],
            [
             0.9,
             "#4d9221"
            ],
            [
             1,
             "#276419"
            ]
           ],
           "sequential": [
            [
             0,
             "#0d0887"
            ],
            [
             0.1111111111111111,
             "#46039f"
            ],
            [
             0.2222222222222222,
             "#7201a8"
            ],
            [
             0.3333333333333333,
             "#9c179e"
            ],
            [
             0.4444444444444444,
             "#bd3786"
            ],
            [
             0.5555555555555556,
             "#d8576b"
            ],
            [
             0.6666666666666666,
             "#ed7953"
            ],
            [
             0.7777777777777778,
             "#fb9f3a"
            ],
            [
             0.8888888888888888,
             "#fdca26"
            ],
            [
             1,
             "#f0f921"
            ]
           ],
           "sequentialminus": [
            [
             0,
             "#0d0887"
            ],
            [
             0.1111111111111111,
             "#46039f"
            ],
            [
             0.2222222222222222,
             "#7201a8"
            ],
            [
             0.3333333333333333,
             "#9c179e"
            ],
            [
             0.4444444444444444,
             "#bd3786"
            ],
            [
             0.5555555555555556,
             "#d8576b"
            ],
            [
             0.6666666666666666,
             "#ed7953"
            ],
            [
             0.7777777777777778,
             "#fb9f3a"
            ],
            [
             0.8888888888888888,
             "#fdca26"
            ],
            [
             1,
             "#f0f921"
            ]
           ]
          },
          "colorway": [
           "#636efa",
           "#EF553B",
           "#00cc96",
           "#ab63fa",
           "#FFA15A",
           "#19d3f3",
           "#FF6692",
           "#B6E880",
           "#FF97FF",
           "#FECB52"
          ],
          "font": {
           "color": "#2a3f5f"
          },
          "geo": {
           "bgcolor": "white",
           "lakecolor": "white",
           "landcolor": "#E5ECF6",
           "showlakes": true,
           "showland": true,
           "subunitcolor": "white"
          },
          "hoverlabel": {
           "align": "left"
          },
          "hovermode": "closest",
          "mapbox": {
           "style": "light"
          },
          "paper_bgcolor": "white",
          "plot_bgcolor": "#E5ECF6",
          "polar": {
           "angularaxis": {
            "gridcolor": "white",
            "linecolor": "white",
            "ticks": ""
           },
           "bgcolor": "#E5ECF6",
           "radialaxis": {
            "gridcolor": "white",
            "linecolor": "white",
            "ticks": ""
           }
          },
          "scene": {
           "xaxis": {
            "backgroundcolor": "#E5ECF6",
            "gridcolor": "white",
            "gridwidth": 2,
            "linecolor": "white",
            "showbackground": true,
            "ticks": "",
            "zerolinecolor": "white"
           },
           "yaxis": {
            "backgroundcolor": "#E5ECF6",
            "gridcolor": "white",
            "gridwidth": 2,
            "linecolor": "white",
            "showbackground": true,
            "ticks": "",
            "zerolinecolor": "white"
           },
           "zaxis": {
            "backgroundcolor": "#E5ECF6",
            "gridcolor": "white",
            "gridwidth": 2,
            "linecolor": "white",
            "showbackground": true,
            "ticks": "",
            "zerolinecolor": "white"
           }
          },
          "shapedefaults": {
           "line": {
            "color": "#2a3f5f"
           }
          },
          "ternary": {
           "aaxis": {
            "gridcolor": "white",
            "linecolor": "white",
            "ticks": ""
           },
           "baxis": {
            "gridcolor": "white",
            "linecolor": "white",
            "ticks": ""
           },
           "bgcolor": "#E5ECF6",
           "caxis": {
            "gridcolor": "white",
            "linecolor": "white",
            "ticks": ""
           }
          },
          "title": {
           "x": 0.05
          },
          "xaxis": {
           "automargin": true,
           "gridcolor": "white",
           "linecolor": "white",
           "ticks": "",
           "title": {
            "standoff": 15
           },
           "zerolinecolor": "white",
           "zerolinewidth": 2
          },
          "yaxis": {
           "automargin": true,
           "gridcolor": "white",
           "linecolor": "white",
           "ticks": "",
           "title": {
            "standoff": 15
           },
           "zerolinecolor": "white",
           "zerolinewidth": 2
          }
         }
        },
        "title": {
         "font": {
          "color": "black",
          "family": "Helvetica",
          "size": 20
         },
         "text": "Heating Consumption for DE (2024)",
         "x": 0.5
        },
        "width": 1000,
        "xaxis": {
         "linecolor": "black",
         "linewidth": 1,
         "showgrid": false,
         "showline": true,
         "title": {
          "text": "Months"
         }
        },
        "yaxis": {
         "gridcolor": "lightgrey",
         "gridwidth": 1,
         "range": [
          0,
          29873929.8
         ],
         "showgrid": true,
         "showline": false,
         "title": {
          "standoff": 10
         }
        }
       }
      }
     },
     "metadata": {},
     "output_type": "display_data"
    }
   ],
   "source": [
    "import plotly.graph_objects as go\n",
    "import pandas as pd\n",
    "\n",
    "# Adjust the function for the new 2024 data format\n",
    "def plot_country_heating_consumption_v2(country_index, df):\n",
    "    country = df.iloc[country_index]  # Get the row for the specific country\n",
    "    country_name = country['Country']  # Use the 'Country' column to get the country name\n",
    "\n",
    "    # Define the months with abbreviations\n",
    "    months = ['Jan', 'Feb', 'Mar', 'Apr', 'May', 'Jun', 'Jul', 'Aug', 'Sep', 'Oct', 'Nov', 'Dec']\n",
    "    \n",
    "    # Extract the heating consumption data for all months\n",
    "    consumption = [\n",
    "        country.get('January Value', None),\n",
    "        country.get('February Value', None),\n",
    "        country.get('March Value', None),\n",
    "        country.get('April Value', None),\n",
    "        country.get('May Value', None),\n",
    "        country.get('June Value', None),\n",
    "        country.get('July Value', None),\n",
    "        country.get('August Value', None),\n",
    "        country.get('September Value', None),\n",
    "        country.get('October Value', None),\n",
    "        country.get('November Value', None),\n",
    "        country.get('December Value', None)\n",
    "    ]\n",
    "\n",
    "    # Convert all consumption values to floats where available, otherwise leave as None\n",
    "    consumption = [float(val.replace(',', '')) if isinstance(val, str) and val else None for val in consumption]\n",
    "\n",
    "    # Create the plot\n",
    "    fig = go.Figure()\n",
    "\n",
    "    # Bar chart for heating consumption in kWh with space for missing months\n",
    "    fig.add_trace(go.Bar(\n",
    "        x=months,  # Abbreviated months\n",
    "        y=consumption,\n",
    "        name='Heating Consumption',\n",
    "        marker_color='salmon',\n",
    "        width=0.4  # Making bars slimmer and increasing space between bars\n",
    "    ))\n",
    "\n",
    "    # Update the layout with smooth font for the title and increased top margin\n",
    "    fig.update_layout(\n",
    "        title=f'Heating Consumption for {country_name} (2024)',\n",
    "        title_x=0.5,  # Centering the title\n",
    "        title_font=dict(size=20, color='black', family='Helvetica'),  # Smooth font for title\n",
    "        xaxis_title='Months',\n",
    "        yaxis_title_standoff=10,  # Adding some distance between y-axis label and the axis\n",
    "        plot_bgcolor='white',\n",
    "        font=dict(size=14),\n",
    "        width=1000,\n",
    "        height=500,\n",
    "        margin=dict(l=50, r=50, t=100, b=50),  # Increasing the top margin for space between the title and graph\n",
    "        bargap=0.5  # Increasing the gap between bars\n",
    "    )\n",
    "\n",
    "    # Adjust the y-axis range to provide a 10% margin above the highest value\n",
    "    max_consumption = max([val for val in consumption if val is not None], default=0)\n",
    "    fig.update_yaxes(range=[0, max_consumption * 1.1])  # Adding a 10% margin on top\n",
    "\n",
    "    # Define horizontal x-axis line and gridlines for x-axis\n",
    "    fig.update_xaxes(\n",
    "        showline=True,  # Draw a defined x-axis line\n",
    "        linecolor='black',  # Set color of the x-axis line\n",
    "        linewidth=1,  # Set thickness of the x-axis line\n",
    "        showgrid=False  # Remove horizontal gridlines for the x-axis\n",
    "    )\n",
    "\n",
    "    # Set up vertical gridlines and y-axis properties\n",
    "    fig.update_yaxes(\n",
    "        showline=False,  # No y-axis line\n",
    "        showgrid=True,  # Show vertical gridlines for the y-axis\n",
    "        gridcolor='lightgrey',  # Color for the gridlines\n",
    "        gridwidth=1  # Gridline width\n",
    "    )\n",
    "\n",
    "    # Annotate the top of the y-axis with 'kWh' and position it directly above the y-axis\n",
    "    fig.add_annotation(\n",
    "        text=\"kWh\",\n",
    "        xref=\"paper\",\n",
    "        yref=\"paper\",\n",
    "        x=0,  # Align it directly above the y-axis\n",
    "        y=1.1,  # Align it with the top of the y-axis\n",
    "        showarrow=False,\n",
    "        font=dict(size=14)\n",
    "    )\n",
    "\n",
    "    # Show the figure\n",
    "    fig.show()\n",
    "\n",
    "# Example: Plotting for the second country (index 1)\n",
    "df_2024 = pd.read_csv('data_2024_new.csv') \n",
    "plot_country_heating_consumption_v2(1, df_2024)\n"
   ]
  },
  {
   "cell_type": "code",
   "execution_count": 44,
   "metadata": {},
   "outputs": [
    {
     "data": {
      "application/vnd.plotly.v1+json": {
       "config": {
        "plotlyServerURL": "https://plot.ly"
       },
       "data": [
        {
         "marker": {
          "color": "salmon"
         },
         "name": "Heating Consumption 2024",
         "type": "bar",
         "width": 0.4,
         "x": [
          "Jan",
          "Feb",
          "Mar",
          "Apr",
          "May",
          "Jun",
          "Jul",
          "Aug",
          "Sep",
          "Oct",
          "Nov",
          "Dec"
         ],
         "y": [
          27158118,
          22426703,
          10538061,
          9365384,
          10061521,
          14044455,
          9433463,
          null,
          null,
          null,
          null,
          null
         ]
        },
        {
         "line": {
          "color": "lightgrey",
          "shape": "spline",
          "width": 2
         },
         "marker": {
          "color": "lightgrey",
          "size": 5,
          "symbol": "circle"
         },
         "mode": "lines+markers",
         "name": "Heating Consumption 2023",
         "type": "scatter",
         "x": [
          "Jan",
          "Feb",
          "Mar",
          "Apr",
          "May",
          "Jun",
          "Jul",
          "Aug",
          "Sep",
          "Oct",
          "Nov",
          "Dec"
         ],
         "y": [
          28304480,
          28304480,
          22997390,
          12383210,
          8845150,
          5307090,
          3538060,
          5307090,
          8845150,
          14152240,
          17690300,
          21228360
         ]
        }
       ],
       "layout": {
        "annotations": [
         {
          "font": {
           "size": 14
          },
          "showarrow": false,
          "text": "kWh",
          "x": 0,
          "xref": "paper",
          "y": 1.1,
          "yref": "paper"
         }
        ],
        "bargap": 0.5,
        "font": {
         "size": 14
        },
        "height": 500,
        "margin": {
         "b": 50,
         "l": 50,
         "r": 50,
         "t": 100
        },
        "plot_bgcolor": "white",
        "template": {
         "data": {
          "bar": [
           {
            "error_x": {
             "color": "#2a3f5f"
            },
            "error_y": {
             "color": "#2a3f5f"
            },
            "marker": {
             "line": {
              "color": "#E5ECF6",
              "width": 0.5
             },
             "pattern": {
              "fillmode": "overlay",
              "size": 10,
              "solidity": 0.2
             }
            },
            "type": "bar"
           }
          ],
          "barpolar": [
           {
            "marker": {
             "line": {
              "color": "#E5ECF6",
              "width": 0.5
             },
             "pattern": {
              "fillmode": "overlay",
              "size": 10,
              "solidity": 0.2
             }
            },
            "type": "barpolar"
           }
          ],
          "carpet": [
           {
            "aaxis": {
             "endlinecolor": "#2a3f5f",
             "gridcolor": "white",
             "linecolor": "white",
             "minorgridcolor": "white",
             "startlinecolor": "#2a3f5f"
            },
            "baxis": {
             "endlinecolor": "#2a3f5f",
             "gridcolor": "white",
             "linecolor": "white",
             "minorgridcolor": "white",
             "startlinecolor": "#2a3f5f"
            },
            "type": "carpet"
           }
          ],
          "choropleth": [
           {
            "colorbar": {
             "outlinewidth": 0,
             "ticks": ""
            },
            "type": "choropleth"
           }
          ],
          "contour": [
           {
            "colorbar": {
             "outlinewidth": 0,
             "ticks": ""
            },
            "colorscale": [
             [
              0,
              "#0d0887"
             ],
             [
              0.1111111111111111,
              "#46039f"
             ],
             [
              0.2222222222222222,
              "#7201a8"
             ],
             [
              0.3333333333333333,
              "#9c179e"
             ],
             [
              0.4444444444444444,
              "#bd3786"
             ],
             [
              0.5555555555555556,
              "#d8576b"
             ],
             [
              0.6666666666666666,
              "#ed7953"
             ],
             [
              0.7777777777777778,
              "#fb9f3a"
             ],
             [
              0.8888888888888888,
              "#fdca26"
             ],
             [
              1,
              "#f0f921"
             ]
            ],
            "type": "contour"
           }
          ],
          "contourcarpet": [
           {
            "colorbar": {
             "outlinewidth": 0,
             "ticks": ""
            },
            "type": "contourcarpet"
           }
          ],
          "heatmap": [
           {
            "colorbar": {
             "outlinewidth": 0,
             "ticks": ""
            },
            "colorscale": [
             [
              0,
              "#0d0887"
             ],
             [
              0.1111111111111111,
              "#46039f"
             ],
             [
              0.2222222222222222,
              "#7201a8"
             ],
             [
              0.3333333333333333,
              "#9c179e"
             ],
             [
              0.4444444444444444,
              "#bd3786"
             ],
             [
              0.5555555555555556,
              "#d8576b"
             ],
             [
              0.6666666666666666,
              "#ed7953"
             ],
             [
              0.7777777777777778,
              "#fb9f3a"
             ],
             [
              0.8888888888888888,
              "#fdca26"
             ],
             [
              1,
              "#f0f921"
             ]
            ],
            "type": "heatmap"
           }
          ],
          "heatmapgl": [
           {
            "colorbar": {
             "outlinewidth": 0,
             "ticks": ""
            },
            "colorscale": [
             [
              0,
              "#0d0887"
             ],
             [
              0.1111111111111111,
              "#46039f"
             ],
             [
              0.2222222222222222,
              "#7201a8"
             ],
             [
              0.3333333333333333,
              "#9c179e"
             ],
             [
              0.4444444444444444,
              "#bd3786"
             ],
             [
              0.5555555555555556,
              "#d8576b"
             ],
             [
              0.6666666666666666,
              "#ed7953"
             ],
             [
              0.7777777777777778,
              "#fb9f3a"
             ],
             [
              0.8888888888888888,
              "#fdca26"
             ],
             [
              1,
              "#f0f921"
             ]
            ],
            "type": "heatmapgl"
           }
          ],
          "histogram": [
           {
            "marker": {
             "pattern": {
              "fillmode": "overlay",
              "size": 10,
              "solidity": 0.2
             }
            },
            "type": "histogram"
           }
          ],
          "histogram2d": [
           {
            "colorbar": {
             "outlinewidth": 0,
             "ticks": ""
            },
            "colorscale": [
             [
              0,
              "#0d0887"
             ],
             [
              0.1111111111111111,
              "#46039f"
             ],
             [
              0.2222222222222222,
              "#7201a8"
             ],
             [
              0.3333333333333333,
              "#9c179e"
             ],
             [
              0.4444444444444444,
              "#bd3786"
             ],
             [
              0.5555555555555556,
              "#d8576b"
             ],
             [
              0.6666666666666666,
              "#ed7953"
             ],
             [
              0.7777777777777778,
              "#fb9f3a"
             ],
             [
              0.8888888888888888,
              "#fdca26"
             ],
             [
              1,
              "#f0f921"
             ]
            ],
            "type": "histogram2d"
           }
          ],
          "histogram2dcontour": [
           {
            "colorbar": {
             "outlinewidth": 0,
             "ticks": ""
            },
            "colorscale": [
             [
              0,
              "#0d0887"
             ],
             [
              0.1111111111111111,
              "#46039f"
             ],
             [
              0.2222222222222222,
              "#7201a8"
             ],
             [
              0.3333333333333333,
              "#9c179e"
             ],
             [
              0.4444444444444444,
              "#bd3786"
             ],
             [
              0.5555555555555556,
              "#d8576b"
             ],
             [
              0.6666666666666666,
              "#ed7953"
             ],
             [
              0.7777777777777778,
              "#fb9f3a"
             ],
             [
              0.8888888888888888,
              "#fdca26"
             ],
             [
              1,
              "#f0f921"
             ]
            ],
            "type": "histogram2dcontour"
           }
          ],
          "mesh3d": [
           {
            "colorbar": {
             "outlinewidth": 0,
             "ticks": ""
            },
            "type": "mesh3d"
           }
          ],
          "parcoords": [
           {
            "line": {
             "colorbar": {
              "outlinewidth": 0,
              "ticks": ""
             }
            },
            "type": "parcoords"
           }
          ],
          "pie": [
           {
            "automargin": true,
            "type": "pie"
           }
          ],
          "scatter": [
           {
            "fillpattern": {
             "fillmode": "overlay",
             "size": 10,
             "solidity": 0.2
            },
            "type": "scatter"
           }
          ],
          "scatter3d": [
           {
            "line": {
             "colorbar": {
              "outlinewidth": 0,
              "ticks": ""
             }
            },
            "marker": {
             "colorbar": {
              "outlinewidth": 0,
              "ticks": ""
             }
            },
            "type": "scatter3d"
           }
          ],
          "scattercarpet": [
           {
            "marker": {
             "colorbar": {
              "outlinewidth": 0,
              "ticks": ""
             }
            },
            "type": "scattercarpet"
           }
          ],
          "scattergeo": [
           {
            "marker": {
             "colorbar": {
              "outlinewidth": 0,
              "ticks": ""
             }
            },
            "type": "scattergeo"
           }
          ],
          "scattergl": [
           {
            "marker": {
             "colorbar": {
              "outlinewidth": 0,
              "ticks": ""
             }
            },
            "type": "scattergl"
           }
          ],
          "scattermapbox": [
           {
            "marker": {
             "colorbar": {
              "outlinewidth": 0,
              "ticks": ""
             }
            },
            "type": "scattermapbox"
           }
          ],
          "scatterpolar": [
           {
            "marker": {
             "colorbar": {
              "outlinewidth": 0,
              "ticks": ""
             }
            },
            "type": "scatterpolar"
           }
          ],
          "scatterpolargl": [
           {
            "marker": {
             "colorbar": {
              "outlinewidth": 0,
              "ticks": ""
             }
            },
            "type": "scatterpolargl"
           }
          ],
          "scatterternary": [
           {
            "marker": {
             "colorbar": {
              "outlinewidth": 0,
              "ticks": ""
             }
            },
            "type": "scatterternary"
           }
          ],
          "surface": [
           {
            "colorbar": {
             "outlinewidth": 0,
             "ticks": ""
            },
            "colorscale": [
             [
              0,
              "#0d0887"
             ],
             [
              0.1111111111111111,
              "#46039f"
             ],
             [
              0.2222222222222222,
              "#7201a8"
             ],
             [
              0.3333333333333333,
              "#9c179e"
             ],
             [
              0.4444444444444444,
              "#bd3786"
             ],
             [
              0.5555555555555556,
              "#d8576b"
             ],
             [
              0.6666666666666666,
              "#ed7953"
             ],
             [
              0.7777777777777778,
              "#fb9f3a"
             ],
             [
              0.8888888888888888,
              "#fdca26"
             ],
             [
              1,
              "#f0f921"
             ]
            ],
            "type": "surface"
           }
          ],
          "table": [
           {
            "cells": {
             "fill": {
              "color": "#EBF0F8"
             },
             "line": {
              "color": "white"
             }
            },
            "header": {
             "fill": {
              "color": "#C8D4E3"
             },
             "line": {
              "color": "white"
             }
            },
            "type": "table"
           }
          ]
         },
         "layout": {
          "annotationdefaults": {
           "arrowcolor": "#2a3f5f",
           "arrowhead": 0,
           "arrowwidth": 1
          },
          "autotypenumbers": "strict",
          "coloraxis": {
           "colorbar": {
            "outlinewidth": 0,
            "ticks": ""
           }
          },
          "colorscale": {
           "diverging": [
            [
             0,
             "#8e0152"
            ],
            [
             0.1,
             "#c51b7d"
            ],
            [
             0.2,
             "#de77ae"
            ],
            [
             0.3,
             "#f1b6da"
            ],
            [
             0.4,
             "#fde0ef"
            ],
            [
             0.5,
             "#f7f7f7"
            ],
            [
             0.6,
             "#e6f5d0"
            ],
            [
             0.7,
             "#b8e186"
            ],
            [
             0.8,
             "#7fbc41"
            ],
            [
             0.9,
             "#4d9221"
            ],
            [
             1,
             "#276419"
            ]
           ],
           "sequential": [
            [
             0,
             "#0d0887"
            ],
            [
             0.1111111111111111,
             "#46039f"
            ],
            [
             0.2222222222222222,
             "#7201a8"
            ],
            [
             0.3333333333333333,
             "#9c179e"
            ],
            [
             0.4444444444444444,
             "#bd3786"
            ],
            [
             0.5555555555555556,
             "#d8576b"
            ],
            [
             0.6666666666666666,
             "#ed7953"
            ],
            [
             0.7777777777777778,
             "#fb9f3a"
            ],
            [
             0.8888888888888888,
             "#fdca26"
            ],
            [
             1,
             "#f0f921"
            ]
           ],
           "sequentialminus": [
            [
             0,
             "#0d0887"
            ],
            [
             0.1111111111111111,
             "#46039f"
            ],
            [
             0.2222222222222222,
             "#7201a8"
            ],
            [
             0.3333333333333333,
             "#9c179e"
            ],
            [
             0.4444444444444444,
             "#bd3786"
            ],
            [
             0.5555555555555556,
             "#d8576b"
            ],
            [
             0.6666666666666666,
             "#ed7953"
            ],
            [
             0.7777777777777778,
             "#fb9f3a"
            ],
            [
             0.8888888888888888,
             "#fdca26"
            ],
            [
             1,
             "#f0f921"
            ]
           ]
          },
          "colorway": [
           "#636efa",
           "#EF553B",
           "#00cc96",
           "#ab63fa",
           "#FFA15A",
           "#19d3f3",
           "#FF6692",
           "#B6E880",
           "#FF97FF",
           "#FECB52"
          ],
          "font": {
           "color": "#2a3f5f"
          },
          "geo": {
           "bgcolor": "white",
           "lakecolor": "white",
           "landcolor": "#E5ECF6",
           "showlakes": true,
           "showland": true,
           "subunitcolor": "white"
          },
          "hoverlabel": {
           "align": "left"
          },
          "hovermode": "closest",
          "mapbox": {
           "style": "light"
          },
          "paper_bgcolor": "white",
          "plot_bgcolor": "#E5ECF6",
          "polar": {
           "angularaxis": {
            "gridcolor": "white",
            "linecolor": "white",
            "ticks": ""
           },
           "bgcolor": "#E5ECF6",
           "radialaxis": {
            "gridcolor": "white",
            "linecolor": "white",
            "ticks": ""
           }
          },
          "scene": {
           "xaxis": {
            "backgroundcolor": "#E5ECF6",
            "gridcolor": "white",
            "gridwidth": 2,
            "linecolor": "white",
            "showbackground": true,
            "ticks": "",
            "zerolinecolor": "white"
           },
           "yaxis": {
            "backgroundcolor": "#E5ECF6",
            "gridcolor": "white",
            "gridwidth": 2,
            "linecolor": "white",
            "showbackground": true,
            "ticks": "",
            "zerolinecolor": "white"
           },
           "zaxis": {
            "backgroundcolor": "#E5ECF6",
            "gridcolor": "white",
            "gridwidth": 2,
            "linecolor": "white",
            "showbackground": true,
            "ticks": "",
            "zerolinecolor": "white"
           }
          },
          "shapedefaults": {
           "line": {
            "color": "#2a3f5f"
           }
          },
          "ternary": {
           "aaxis": {
            "gridcolor": "white",
            "linecolor": "white",
            "ticks": ""
           },
           "baxis": {
            "gridcolor": "white",
            "linecolor": "white",
            "ticks": ""
           },
           "bgcolor": "#E5ECF6",
           "caxis": {
            "gridcolor": "white",
            "linecolor": "white",
            "ticks": ""
           }
          },
          "title": {
           "x": 0.05
          },
          "xaxis": {
           "automargin": true,
           "gridcolor": "white",
           "linecolor": "white",
           "ticks": "",
           "title": {
            "standoff": 15
           },
           "zerolinecolor": "white",
           "zerolinewidth": 2
          },
          "yaxis": {
           "automargin": true,
           "gridcolor": "white",
           "linecolor": "white",
           "ticks": "",
           "title": {
            "standoff": 15
           },
           "zerolinecolor": "white",
           "zerolinewidth": 2
          }
         }
        },
        "title": {
         "font": {
          "color": "black",
          "family": "Helvetica",
          "size": 20
         },
         "text": "Heating Consumption for DE (2023 vs 2024)",
         "x": 0.5
        },
        "width": 1000,
        "xaxis": {
         "linecolor": "black",
         "linewidth": 1,
         "showgrid": false,
         "showline": true,
         "title": {
          "text": "Months"
         }
        },
        "yaxis": {
         "gridcolor": "lightgrey",
         "gridwidth": 1,
         "range": [
          0,
          31134928.000000004
         ],
         "showgrid": true,
         "showline": false,
         "title": {
          "standoff": 10
         }
        }
       }
      }
     },
     "metadata": {},
     "output_type": "display_data"
    }
   ],
   "source": [
    "import plotly.graph_objects as go\n",
    "import pandas as pd\n",
    "import numpy as np\n",
    "\n",
    "# Function to plot both 2024 and 2023 data\n",
    "def plot_country_heating_consumption_with_2023(country_index, df_2024, df_2023):\n",
    "    # Get the 2024 data\n",
    "    country_2024 = df_2024.iloc[country_index]\n",
    "    country_name = country_2024['Country']\n",
    "    \n",
    "    # Define months abbreviations\n",
    "    months = ['Jan', 'Feb', 'Mar', 'Apr', 'May', 'Jun', 'Jul', 'Aug', 'Sep', 'Oct', 'Nov', 'Dec']\n",
    "    \n",
    "    # Extract 2024 heating consumption data\n",
    "    consumption_2024 = [\n",
    "        country_2024.get('January Value', None),\n",
    "        country_2024.get('February Value', None),\n",
    "        country_2024.get('March Value', None),\n",
    "        country_2024.get('April Value', None),\n",
    "        country_2024.get('May Value', None),\n",
    "        country_2024.get('June Value', None),\n",
    "        country_2024.get('July Value', None),\n",
    "        country_2024.get('August Value', None),\n",
    "        country_2024.get('September Value', None),\n",
    "        country_2024.get('October Value', None),\n",
    "        country_2024.get('November Value', None),\n",
    "        country_2024.get('December Value', None)\n",
    "    ]\n",
    "    \n",
    "    # Convert 2024 consumption to floats where available\n",
    "    consumption_2024 = [float(val.replace(',', '')) if isinstance(val, str) and val else None for val in consumption_2024]\n",
    "\n",
    "    # Get the 2023 data\n",
    "    country_2023 = df_2023.iloc[country_index]\n",
    "\n",
    "    # Extract 2023 heating consumption data (assuming the structure matches 2024 for months)\n",
    "    consumption_2023 = [\n",
    "        country_2023.get('January Value', None),\n",
    "        country_2023.get('February Value', None),\n",
    "        country_2023.get('March Value', None),\n",
    "        country_2023.get('April Value', None),\n",
    "        country_2023.get('May Value', None),\n",
    "        country_2023.get('June Value', None),\n",
    "        country_2023.get('July Value', None),\n",
    "        country_2023.get('August Value', None),\n",
    "        country_2023.get('September Value', None),\n",
    "        country_2023.get('October Value', None),\n",
    "        country_2023.get('November Value', None),\n",
    "        country_2023.get('December Value', None)\n",
    "    ]\n",
    "    \n",
    "    # Convert 2023 consumption to floats where available\n",
    "    consumption_2023 = [float(val.replace(',', '')) if isinstance(val, str) and val else None for val in consumption_2023]\n",
    "\n",
    "    # multiply by 1000 to convert to kWh\n",
    "\n",
    "    consumption_2023 = [val * 1000 if val is not None else None for val in consumption_2023]\n",
    "    \n",
    "\n",
    "    \n",
    "    # Create the plot\n",
    "    fig = go.Figure()\n",
    "\n",
    "    # 2024 Bar chart for heating consumption\n",
    "    fig.add_trace(go.Bar(\n",
    "        x=months,\n",
    "        y=consumption_2024,\n",
    "        name='Heating Consumption 2024',\n",
    "        marker_color='salmon',\n",
    "        width=0.4\n",
    "    ))\n",
    "\n",
    "    # do a spline trace for 2023 data\n",
    "    fig.add_trace(go.Scatter(\n",
    "        x=months,\n",
    "        y=consumption_2023,\n",
    "        mode='lines+markers',\n",
    "        name='Heating Consumption 2023',\n",
    "        line=dict(color='lightgrey', width=2),  # Light grey smooth line\n",
    "        marker=dict(symbol='circle', size=5, color='lightgrey'),  # Circle bullet points\n",
    "        line_shape='spline'  # This creates a smooth curve between points\n",
    "    ))\n",
    "\n",
    "    # Update the layout\n",
    "    fig.update_layout(\n",
    "        title=f'Heating Consumption for {country_name} (2023 vs 2024)',\n",
    "        title_x=0.5,\n",
    "        title_font=dict(size=20, color='black', family='Helvetica'),\n",
    "        xaxis_title='Months',\n",
    "        yaxis_title_standoff=10,\n",
    "        plot_bgcolor='white',\n",
    "        font=dict(size=14),\n",
    "        width=1000,\n",
    "        height=500,\n",
    "        margin=dict(l=50, r=50, t=100, b=50),\n",
    "        bargap=0.5\n",
    "    )\n",
    "\n",
    "    # Adjust the y-axis range to provide a 10% margin above the highest value\n",
    "    max_consumption = max([val for val in consumption_2024 + consumption_2023 if val is not None], default=0)\n",
    "    fig.update_yaxes(range=[0, max_consumption * 1.1])\n",
    "\n",
    "    # Define x-axis line and gridlines\n",
    "    fig.update_xaxes(showline=True, linecolor='black', linewidth=1, showgrid=False)\n",
    "    \n",
    "    # Set up vertical gridlines and y-axis properties\n",
    "    fig.update_yaxes(showline=False, showgrid=True, gridcolor='lightgrey', gridwidth=1)\n",
    "\n",
    "    # Annotate the top of the y-axis with 'kWh'\n",
    "    fig.add_annotation(text=\"kWh\", xref=\"paper\", yref=\"paper\", x=0, y=1.1, showarrow=False, font=dict(size=14))\n",
    "\n",
    "    # Show the figure\n",
    "    fig.show()\n",
    "\n",
    "# Example: Plotting for the second country (index 1)\n",
    "df_2024 = pd.read_csv('data_2024_new.csv')\n",
    "df_2023 = pd.read_csv('data_2023_new.csv')\n",
    "plot_country_heating_consumption_with_2023(1, df_2024, df_2023)\n"
   ]
  },
  {
   "cell_type": "code",
   "execution_count": 45,
   "metadata": {},
   "outputs": [
    {
     "data": {
      "application/vnd.plotly.v1+json": {
       "config": {
        "plotlyServerURL": "https://plot.ly"
       },
       "data": [
        {
         "marker": {
          "color": "salmon"
         },
         "name": "Heating Consumption 2024",
         "type": "bar",
         "width": 0.4,
         "x": [
          "Jan",
          "Feb",
          "Mar",
          "Apr",
          "May",
          "Jun",
          "Jul",
          "Aug",
          "Sep",
          "Oct",
          "Nov",
          "Dec"
         ],
         "y": [
          27158118,
          22426703,
          10538061,
          9365384,
          10061521,
          14044455,
          9433463,
          0,
          0,
          0,
          0,
          0
         ]
        },
        {
         "marker": {
          "color": "lightblue"
         },
         "name": "Heating Consumption 2024 (Predicted)",
         "type": "bar",
         "width": 0.4,
         "x": [
          "Jan",
          "Feb",
          "Mar",
          "Apr",
          "May",
          "Jun",
          "Jul",
          "Aug",
          "Sep",
          "Oct",
          "Nov",
          "Dec"
         ],
         "y": [
          0,
          0,
          0,
          0,
          0,
          0,
          0,
          7370276.5,
          9139306.5,
          11792851.5,
          13561881.5,
          15330911.5
         ]
        },
        {
         "line": {
          "color": "lightgrey",
          "shape": "spline",
          "width": 2
         },
         "marker": {
          "color": "lightgrey",
          "size": 5,
          "symbol": "circle"
         },
         "mode": "lines+markers",
         "name": "Heating Consumption 2023",
         "type": "scatter",
         "x": [
          "Jan",
          "Feb",
          "Mar",
          "Apr",
          "May",
          "Jun",
          "Jul",
          "Aug",
          "Sep",
          "Oct",
          "Nov",
          "Dec"
         ],
         "y": [
          28304480,
          28304480,
          22997390,
          12383210,
          8845150,
          5307090,
          3538060,
          5307090,
          8845150,
          14152240,
          17690300,
          21228360
         ]
        }
       ],
       "layout": {
        "annotations": [
         {
          "font": {
           "size": 14
          },
          "showarrow": false,
          "text": "kWh",
          "x": 0,
          "xref": "paper",
          "y": 1.1,
          "yref": "paper"
         }
        ],
        "bargap": 0.5,
        "font": {
         "size": 14
        },
        "height": 500,
        "margin": {
         "b": 50,
         "l": 50,
         "r": 50,
         "t": 100
        },
        "plot_bgcolor": "white",
        "template": {
         "data": {
          "bar": [
           {
            "error_x": {
             "color": "#2a3f5f"
            },
            "error_y": {
             "color": "#2a3f5f"
            },
            "marker": {
             "line": {
              "color": "#E5ECF6",
              "width": 0.5
             },
             "pattern": {
              "fillmode": "overlay",
              "size": 10,
              "solidity": 0.2
             }
            },
            "type": "bar"
           }
          ],
          "barpolar": [
           {
            "marker": {
             "line": {
              "color": "#E5ECF6",
              "width": 0.5
             },
             "pattern": {
              "fillmode": "overlay",
              "size": 10,
              "solidity": 0.2
             }
            },
            "type": "barpolar"
           }
          ],
          "carpet": [
           {
            "aaxis": {
             "endlinecolor": "#2a3f5f",
             "gridcolor": "white",
             "linecolor": "white",
             "minorgridcolor": "white",
             "startlinecolor": "#2a3f5f"
            },
            "baxis": {
             "endlinecolor": "#2a3f5f",
             "gridcolor": "white",
             "linecolor": "white",
             "minorgridcolor": "white",
             "startlinecolor": "#2a3f5f"
            },
            "type": "carpet"
           }
          ],
          "choropleth": [
           {
            "colorbar": {
             "outlinewidth": 0,
             "ticks": ""
            },
            "type": "choropleth"
           }
          ],
          "contour": [
           {
            "colorbar": {
             "outlinewidth": 0,
             "ticks": ""
            },
            "colorscale": [
             [
              0,
              "#0d0887"
             ],
             [
              0.1111111111111111,
              "#46039f"
             ],
             [
              0.2222222222222222,
              "#7201a8"
             ],
             [
              0.3333333333333333,
              "#9c179e"
             ],
             [
              0.4444444444444444,
              "#bd3786"
             ],
             [
              0.5555555555555556,
              "#d8576b"
             ],
             [
              0.6666666666666666,
              "#ed7953"
             ],
             [
              0.7777777777777778,
              "#fb9f3a"
             ],
             [
              0.8888888888888888,
              "#fdca26"
             ],
             [
              1,
              "#f0f921"
             ]
            ],
            "type": "contour"
           }
          ],
          "contourcarpet": [
           {
            "colorbar": {
             "outlinewidth": 0,
             "ticks": ""
            },
            "type": "contourcarpet"
           }
          ],
          "heatmap": [
           {
            "colorbar": {
             "outlinewidth": 0,
             "ticks": ""
            },
            "colorscale": [
             [
              0,
              "#0d0887"
             ],
             [
              0.1111111111111111,
              "#46039f"
             ],
             [
              0.2222222222222222,
              "#7201a8"
             ],
             [
              0.3333333333333333,
              "#9c179e"
             ],
             [
              0.4444444444444444,
              "#bd3786"
             ],
             [
              0.5555555555555556,
              "#d8576b"
             ],
             [
              0.6666666666666666,
              "#ed7953"
             ],
             [
              0.7777777777777778,
              "#fb9f3a"
             ],
             [
              0.8888888888888888,
              "#fdca26"
             ],
             [
              1,
              "#f0f921"
             ]
            ],
            "type": "heatmap"
           }
          ],
          "heatmapgl": [
           {
            "colorbar": {
             "outlinewidth": 0,
             "ticks": ""
            },
            "colorscale": [
             [
              0,
              "#0d0887"
             ],
             [
              0.1111111111111111,
              "#46039f"
             ],
             [
              0.2222222222222222,
              "#7201a8"
             ],
             [
              0.3333333333333333,
              "#9c179e"
             ],
             [
              0.4444444444444444,
              "#bd3786"
             ],
             [
              0.5555555555555556,
              "#d8576b"
             ],
             [
              0.6666666666666666,
              "#ed7953"
             ],
             [
              0.7777777777777778,
              "#fb9f3a"
             ],
             [
              0.8888888888888888,
              "#fdca26"
             ],
             [
              1,
              "#f0f921"
             ]
            ],
            "type": "heatmapgl"
           }
          ],
          "histogram": [
           {
            "marker": {
             "pattern": {
              "fillmode": "overlay",
              "size": 10,
              "solidity": 0.2
             }
            },
            "type": "histogram"
           }
          ],
          "histogram2d": [
           {
            "colorbar": {
             "outlinewidth": 0,
             "ticks": ""
            },
            "colorscale": [
             [
              0,
              "#0d0887"
             ],
             [
              0.1111111111111111,
              "#46039f"
             ],
             [
              0.2222222222222222,
              "#7201a8"
             ],
             [
              0.3333333333333333,
              "#9c179e"
             ],
             [
              0.4444444444444444,
              "#bd3786"
             ],
             [
              0.5555555555555556,
              "#d8576b"
             ],
             [
              0.6666666666666666,
              "#ed7953"
             ],
             [
              0.7777777777777778,
              "#fb9f3a"
             ],
             [
              0.8888888888888888,
              "#fdca26"
             ],
             [
              1,
              "#f0f921"
             ]
            ],
            "type": "histogram2d"
           }
          ],
          "histogram2dcontour": [
           {
            "colorbar": {
             "outlinewidth": 0,
             "ticks": ""
            },
            "colorscale": [
             [
              0,
              "#0d0887"
             ],
             [
              0.1111111111111111,
              "#46039f"
             ],
             [
              0.2222222222222222,
              "#7201a8"
             ],
             [
              0.3333333333333333,
              "#9c179e"
             ],
             [
              0.4444444444444444,
              "#bd3786"
             ],
             [
              0.5555555555555556,
              "#d8576b"
             ],
             [
              0.6666666666666666,
              "#ed7953"
             ],
             [
              0.7777777777777778,
              "#fb9f3a"
             ],
             [
              0.8888888888888888,
              "#fdca26"
             ],
             [
              1,
              "#f0f921"
             ]
            ],
            "type": "histogram2dcontour"
           }
          ],
          "mesh3d": [
           {
            "colorbar": {
             "outlinewidth": 0,
             "ticks": ""
            },
            "type": "mesh3d"
           }
          ],
          "parcoords": [
           {
            "line": {
             "colorbar": {
              "outlinewidth": 0,
              "ticks": ""
             }
            },
            "type": "parcoords"
           }
          ],
          "pie": [
           {
            "automargin": true,
            "type": "pie"
           }
          ],
          "scatter": [
           {
            "fillpattern": {
             "fillmode": "overlay",
             "size": 10,
             "solidity": 0.2
            },
            "type": "scatter"
           }
          ],
          "scatter3d": [
           {
            "line": {
             "colorbar": {
              "outlinewidth": 0,
              "ticks": ""
             }
            },
            "marker": {
             "colorbar": {
              "outlinewidth": 0,
              "ticks": ""
             }
            },
            "type": "scatter3d"
           }
          ],
          "scattercarpet": [
           {
            "marker": {
             "colorbar": {
              "outlinewidth": 0,
              "ticks": ""
             }
            },
            "type": "scattercarpet"
           }
          ],
          "scattergeo": [
           {
            "marker": {
             "colorbar": {
              "outlinewidth": 0,
              "ticks": ""
             }
            },
            "type": "scattergeo"
           }
          ],
          "scattergl": [
           {
            "marker": {
             "colorbar": {
              "outlinewidth": 0,
              "ticks": ""
             }
            },
            "type": "scattergl"
           }
          ],
          "scattermapbox": [
           {
            "marker": {
             "colorbar": {
              "outlinewidth": 0,
              "ticks": ""
             }
            },
            "type": "scattermapbox"
           }
          ],
          "scatterpolar": [
           {
            "marker": {
             "colorbar": {
              "outlinewidth": 0,
              "ticks": ""
             }
            },
            "type": "scatterpolar"
           }
          ],
          "scatterpolargl": [
           {
            "marker": {
             "colorbar": {
              "outlinewidth": 0,
              "ticks": ""
             }
            },
            "type": "scatterpolargl"
           }
          ],
          "scatterternary": [
           {
            "marker": {
             "colorbar": {
              "outlinewidth": 0,
              "ticks": ""
             }
            },
            "type": "scatterternary"
           }
          ],
          "surface": [
           {
            "colorbar": {
             "outlinewidth": 0,
             "ticks": ""
            },
            "colorscale": [
             [
              0,
              "#0d0887"
             ],
             [
              0.1111111111111111,
              "#46039f"
             ],
             [
              0.2222222222222222,
              "#7201a8"
             ],
             [
              0.3333333333333333,
              "#9c179e"
             ],
             [
              0.4444444444444444,
              "#bd3786"
             ],
             [
              0.5555555555555556,
              "#d8576b"
             ],
             [
              0.6666666666666666,
              "#ed7953"
             ],
             [
              0.7777777777777778,
              "#fb9f3a"
             ],
             [
              0.8888888888888888,
              "#fdca26"
             ],
             [
              1,
              "#f0f921"
             ]
            ],
            "type": "surface"
           }
          ],
          "table": [
           {
            "cells": {
             "fill": {
              "color": "#EBF0F8"
             },
             "line": {
              "color": "white"
             }
            },
            "header": {
             "fill": {
              "color": "#C8D4E3"
             },
             "line": {
              "color": "white"
             }
            },
            "type": "table"
           }
          ]
         },
         "layout": {
          "annotationdefaults": {
           "arrowcolor": "#2a3f5f",
           "arrowhead": 0,
           "arrowwidth": 1
          },
          "autotypenumbers": "strict",
          "coloraxis": {
           "colorbar": {
            "outlinewidth": 0,
            "ticks": ""
           }
          },
          "colorscale": {
           "diverging": [
            [
             0,
             "#8e0152"
            ],
            [
             0.1,
             "#c51b7d"
            ],
            [
             0.2,
             "#de77ae"
            ],
            [
             0.3,
             "#f1b6da"
            ],
            [
             0.4,
             "#fde0ef"
            ],
            [
             0.5,
             "#f7f7f7"
            ],
            [
             0.6,
             "#e6f5d0"
            ],
            [
             0.7,
             "#b8e186"
            ],
            [
             0.8,
             "#7fbc41"
            ],
            [
             0.9,
             "#4d9221"
            ],
            [
             1,
             "#276419"
            ]
           ],
           "sequential": [
            [
             0,
             "#0d0887"
            ],
            [
             0.1111111111111111,
             "#46039f"
            ],
            [
             0.2222222222222222,
             "#7201a8"
            ],
            [
             0.3333333333333333,
             "#9c179e"
            ],
            [
             0.4444444444444444,
             "#bd3786"
            ],
            [
             0.5555555555555556,
             "#d8576b"
            ],
            [
             0.6666666666666666,
             "#ed7953"
            ],
            [
             0.7777777777777778,
             "#fb9f3a"
            ],
            [
             0.8888888888888888,
             "#fdca26"
            ],
            [
             1,
             "#f0f921"
            ]
           ],
           "sequentialminus": [
            [
             0,
             "#0d0887"
            ],
            [
             0.1111111111111111,
             "#46039f"
            ],
            [
             0.2222222222222222,
             "#7201a8"
            ],
            [
             0.3333333333333333,
             "#9c179e"
            ],
            [
             0.4444444444444444,
             "#bd3786"
            ],
            [
             0.5555555555555556,
             "#d8576b"
            ],
            [
             0.6666666666666666,
             "#ed7953"
            ],
            [
             0.7777777777777778,
             "#fb9f3a"
            ],
            [
             0.8888888888888888,
             "#fdca26"
            ],
            [
             1,
             "#f0f921"
            ]
           ]
          },
          "colorway": [
           "#636efa",
           "#EF553B",
           "#00cc96",
           "#ab63fa",
           "#FFA15A",
           "#19d3f3",
           "#FF6692",
           "#B6E880",
           "#FF97FF",
           "#FECB52"
          ],
          "font": {
           "color": "#2a3f5f"
          },
          "geo": {
           "bgcolor": "white",
           "lakecolor": "white",
           "landcolor": "#E5ECF6",
           "showlakes": true,
           "showland": true,
           "subunitcolor": "white"
          },
          "hoverlabel": {
           "align": "left"
          },
          "hovermode": "closest",
          "mapbox": {
           "style": "light"
          },
          "paper_bgcolor": "white",
          "plot_bgcolor": "#E5ECF6",
          "polar": {
           "angularaxis": {
            "gridcolor": "white",
            "linecolor": "white",
            "ticks": ""
           },
           "bgcolor": "#E5ECF6",
           "radialaxis": {
            "gridcolor": "white",
            "linecolor": "white",
            "ticks": ""
           }
          },
          "scene": {
           "xaxis": {
            "backgroundcolor": "#E5ECF6",
            "gridcolor": "white",
            "gridwidth": 2,
            "linecolor": "white",
            "showbackground": true,
            "ticks": "",
            "zerolinecolor": "white"
           },
           "yaxis": {
            "backgroundcolor": "#E5ECF6",
            "gridcolor": "white",
            "gridwidth": 2,
            "linecolor": "white",
            "showbackground": true,
            "ticks": "",
            "zerolinecolor": "white"
           },
           "zaxis": {
            "backgroundcolor": "#E5ECF6",
            "gridcolor": "white",
            "gridwidth": 2,
            "linecolor": "white",
            "showbackground": true,
            "ticks": "",
            "zerolinecolor": "white"
           }
          },
          "shapedefaults": {
           "line": {
            "color": "#2a3f5f"
           }
          },
          "ternary": {
           "aaxis": {
            "gridcolor": "white",
            "linecolor": "white",
            "ticks": ""
           },
           "baxis": {
            "gridcolor": "white",
            "linecolor": "white",
            "ticks": ""
           },
           "bgcolor": "#E5ECF6",
           "caxis": {
            "gridcolor": "white",
            "linecolor": "white",
            "ticks": ""
           }
          },
          "title": {
           "x": 0.05
          },
          "xaxis": {
           "automargin": true,
           "gridcolor": "white",
           "linecolor": "white",
           "ticks": "",
           "title": {
            "standoff": 15
           },
           "zerolinecolor": "white",
           "zerolinewidth": 2
          },
          "yaxis": {
           "automargin": true,
           "gridcolor": "white",
           "linecolor": "white",
           "ticks": "",
           "title": {
            "standoff": 15
           },
           "zerolinecolor": "white",
           "zerolinewidth": 2
          }
         }
        },
        "title": {
         "font": {
          "color": "black",
          "family": "Helvetica",
          "size": 20
         },
         "text": "Heating Consumption for DE (2023 vs 2024)",
         "x": 0.5
        },
        "width": 1000,
        "xaxis": {
         "linecolor": "black",
         "linewidth": 1,
         "showgrid": false,
         "showline": true,
         "title": {
          "text": "Months"
         }
        },
        "yaxis": {
         "gridcolor": "lightgrey",
         "gridwidth": 1,
         "range": [
          0,
          31134928.000000004
         ],
         "showgrid": true,
         "showline": false,
         "title": {
          "standoff": 10
         }
        }
       }
      }
     },
     "metadata": {},
     "output_type": "display_data"
    }
   ],
   "source": [
    "import plotly.graph_objects as go\n",
    "import pandas as pd\n",
    "import numpy as np\n",
    "\n",
    "# Function to fill missing months with predictions based on previous data\n",
    "def generate_predictions(consumption_2024, consumption_2023):\n",
    "    # Generate predictions for missing months in 2024 using the last known value and trends from 2023\n",
    "    predictions = []\n",
    "    last_known_value = None\n",
    "    \n",
    "    for i in range(len(consumption_2024)):\n",
    "        if consumption_2024[i] is not None:\n",
    "            predictions.append(consumption_2024[i])\n",
    "            last_known_value = consumption_2024[i]\n",
    "        else:\n",
    "            if last_known_value is not None:\n",
    "                # For prediction, use the average of last known value in 2024 and the corresponding 2023 value\n",
    "                prediction = (last_known_value + (consumption_2023[i] if consumption_2023[i] is not None else 0)) / 2\n",
    "                predictions.append(prediction)\n",
    "            else:\n",
    "                predictions.append(None)  # If no known value in 2024, keep it as None\n",
    "    \n",
    "    return predictions\n",
    "\n",
    "# Function to plot both 2024 and 2023 data\n",
    "def plot_country_heating_consumption_with_2023(country_index, df_2024, df_2023):\n",
    "    # Get the 2024 data\n",
    "    country_2024 = df_2024.iloc[country_index]\n",
    "    country_name = country_2024['Country']\n",
    "    \n",
    "    # Define months abbreviations\n",
    "    months = ['Jan', 'Feb', 'Mar', 'Apr', 'May', 'Jun', 'Jul', 'Aug', 'Sep', 'Oct', 'Nov', 'Dec']\n",
    "    \n",
    "    # Extract 2024 heating consumption data\n",
    "    consumption_2024 = [\n",
    "        country_2024.get('January Value', None),\n",
    "        country_2024.get('February Value', None),\n",
    "        country_2024.get('March Value', None),\n",
    "        country_2024.get('April Value', None),\n",
    "        country_2024.get('May Value', None),\n",
    "        country_2024.get('June Value', None),\n",
    "        country_2024.get('July Value', None),\n",
    "        country_2024.get('August Value', None),\n",
    "        country_2024.get('September Value', None),\n",
    "        country_2024.get('October Value', None),\n",
    "        country_2024.get('November Value', None),\n",
    "        country_2024.get('December Value', None)\n",
    "    ]\n",
    "    \n",
    "    # Convert 2024 consumption to floats where available\n",
    "    consumption_2024 = [float(val.replace(',', '')) if isinstance(val, str) and val else None for val in consumption_2024]\n",
    "\n",
    "    # Get the 2023 data\n",
    "    country_2023 = df_2023.iloc[country_index]\n",
    "\n",
    "    # Extract 2023 heating consumption data (assuming the structure matches 2024 for months)\n",
    "    consumption_2023 = [\n",
    "        country_2023.get('January Value', None),\n",
    "        country_2023.get('February Value', None),\n",
    "        country_2023.get('March Value', None),\n",
    "        country_2023.get('April Value', None),\n",
    "        country_2023.get('May Value', None),\n",
    "        country_2023.get('June Value', None),\n",
    "        country_2023.get('July Value', None),\n",
    "        country_2023.get('August Value', None),\n",
    "        country_2023.get('September Value', None),\n",
    "        country_2023.get('October Value', None),\n",
    "        country_2023.get('November Value', None),\n",
    "        country_2023.get('December Value', None)\n",
    "    ]\n",
    "    \n",
    "    # Convert 2023 consumption to floats where available\n",
    "    consumption_2023 = [float(val.replace(',', '')) if isinstance(val, str) and val else None for val in consumption_2023]\n",
    "\n",
    "    # Multiply by 1000 to convert to kWh\n",
    "    consumption_2023 = [val * 1000 if val is not None else None for val in consumption_2023]\n",
    "    \n",
    "    # Generate predictions for the missing months in 2024\n",
    "    consumption_2024_predicted = generate_predictions(consumption_2024, consumption_2023)\n",
    "\n",
    "    # Create the plot\n",
    "    fig = go.Figure()\n",
    "\n",
    "    # 2024 Bar chart for actual heating consumption\n",
    "    fig.add_trace(go.Bar(\n",
    "        x=months,\n",
    "        y=[consumption_2024[i] if consumption_2024[i] is not None else 0 for i in range(len(consumption_2024))],\n",
    "        name='Heating Consumption 2024',\n",
    "        marker_color='salmon',\n",
    "        width=0.4\n",
    "    ))\n",
    "\n",
    "    # Bar chart for predicted heating consumption for missing months in 2024\n",
    "    fig.add_trace(go.Bar(\n",
    "        x=months,\n",
    "        y=[consumption_2024_predicted[i] if consumption_2024[i] is None else 0 for i in range(len(consumption_2024_predicted))],\n",
    "        name='Heating Consumption 2024 (Predicted)',\n",
    "        marker_color='lightblue',\n",
    "        width=0.4\n",
    "    ))\n",
    "\n",
    "    # Spline trace for 2023 data\n",
    "    fig.add_trace(go.Scatter(\n",
    "        x=months,\n",
    "        y=consumption_2023,\n",
    "        mode='lines+markers',\n",
    "        name='Heating Consumption 2023',\n",
    "        line=dict(color='lightgrey', width=2),  # Light grey smooth line\n",
    "        marker=dict(symbol='circle', size=5, color='lightgrey'),  # Circle bullet points\n",
    "        line_shape='spline'  # This creates a smooth curve between points\n",
    "    ))\n",
    "\n",
    "    # Update the layout\n",
    "    fig.update_layout(\n",
    "        title=f'Heating Consumption for {country_name} (2023 vs 2024)',\n",
    "        title_x=0.5,\n",
    "        title_font=dict(size=20, color='black', family='Helvetica'),\n",
    "        xaxis_title='Months',\n",
    "        yaxis_title_standoff=10,\n",
    "        plot_bgcolor='white',\n",
    "        font=dict(size=14),\n",
    "        width=1000,\n",
    "        height=500,\n",
    "        margin=dict(l=50, r=50, t=100, b=50),\n",
    "        bargap=0.5\n",
    "    )\n",
    "\n",
    "    # Adjust the y-axis range to provide a 10% margin above the highest value\n",
    "    max_consumption = max([val for val in consumption_2024_predicted + consumption_2023 if val is not None], default=0)\n",
    "    fig.update_yaxes(range=[0, max_consumption * 1.1])\n",
    "\n",
    "    # Define x-axis line and gridlines\n",
    "    fig.update_xaxes(showline=True, linecolor='black', linewidth=1, showgrid=False)\n",
    "    \n",
    "    # Set up vertical gridlines and y-axis properties\n",
    "    fig.update_yaxes(showline=False, showgrid=True, gridcolor='lightgrey', gridwidth=1)\n",
    "\n",
    "    # Annotate the top of the y-axis with 'kWh'\n",
    "    fig.add_annotation(text=\"kWh\", xref=\"paper\", yref=\"paper\", x=0, y=1.1, showarrow=False, font=dict(size=14))\n",
    "\n",
    "    # Show the figure\n",
    "    fig.show()\n",
    "\n",
    "# Example: Plotting for the second country (index 1)\n",
    "df_2024 = pd.read_csv('data_2024_new.csv')\n",
    "df_2023 = pd.read_csv('data_2023_new.csv')\n",
    "plot_country_heating_consumption_with_2023(1, df_2024, df_2023)\n"
   ]
  },
  {
   "cell_type": "code",
   "execution_count": 52,
   "metadata": {},
   "outputs": [
    {
     "data": {
      "application/vnd.plotly.v1+json": {
       "config": {
        "plotlyServerURL": "https://plot.ly"
       },
       "data": [
        {
         "marker": {
          "color": "salmon"
         },
         "name": "Heating Consumption 2024 Reported",
         "type": "bar",
         "width": 0.4,
         "x": [
          "Jan",
          "Feb",
          "Mar",
          "Apr",
          "May",
          "Jun",
          "Jul",
          "Aug",
          "Sep",
          "Oct",
          "Nov",
          "Dec"
         ],
         "y": [
          27158118,
          22426703,
          10538061,
          9365384,
          10061521,
          14044455,
          9433463,
          0,
          0,
          0,
          0,
          0
         ]
        },
        {
         "marker": {
          "color": "salmon"
         },
         "name": "Heating Consumption 2024 Estimated 100% Coverage",
         "opacity": 0.5,
         "type": "bar",
         "width": 0.4,
         "x": [
          "Jan",
          "Feb",
          "Mar",
          "Apr",
          "May",
          "Jun",
          "Jul",
          "Aug",
          "Sep",
          "Oct",
          "Nov",
          "Dec"
         ],
         "y": [
          38413179.63224894,
          30554091.28065395,
          13994768.924302788,
          12437428.950863214,
          13523549.731182795,
          18651334.661354583,
          13011673.103448275,
          0,
          0,
          0,
          0,
          0
         ]
        },
        {
         "marker": {
          "color": "lightblue"
         },
         "name": "Heating Consumption 2024 (Predicted)",
         "opacity": 0.5,
         "type": "bar",
         "width": 0.4,
         "x": [
          "Jan",
          "Feb",
          "Mar",
          "Apr",
          "May",
          "Jun",
          "Jul",
          "Aug",
          "Sep",
          "Oct",
          "Nov",
          "Dec"
         ],
         "y": [
          0,
          0,
          0,
          0,
          0,
          0,
          0,
          7370276.5,
          9139306.5,
          11792851.5,
          13561881.5,
          15330911.5
         ]
        },
        {
         "line": {
          "color": "lightgrey",
          "shape": "spline",
          "width": 2
         },
         "marker": {
          "color": "lightgrey",
          "size": 5,
          "symbol": "circle"
         },
         "mode": "lines+markers",
         "name": "Heating Consumption 2023",
         "type": "scatter",
         "x": [
          "Jan",
          "Feb",
          "Mar",
          "Apr",
          "May",
          "Jun",
          "Jul",
          "Aug",
          "Sep",
          "Oct",
          "Nov",
          "Dec"
         ],
         "y": [
          28304480,
          28304480,
          22997390,
          12383210,
          8845150,
          5307090,
          3538060,
          5307090,
          8845150,
          14152240,
          17690300,
          21228360
         ]
        }
       ],
       "layout": {
        "annotations": [
         {
          "font": {
           "size": 14
          },
          "showarrow": false,
          "text": "kWh",
          "x": 0,
          "xref": "paper",
          "y": 1.1,
          "yref": "paper"
         }
        ],
        "bargap": 0.5,
        "font": {
         "size": 14
        },
        "height": 600,
        "margin": {
         "b": 50,
         "l": 50,
         "r": 50,
         "t": 100
        },
        "plot_bgcolor": "white",
        "template": {
         "data": {
          "bar": [
           {
            "error_x": {
             "color": "#2a3f5f"
            },
            "error_y": {
             "color": "#2a3f5f"
            },
            "marker": {
             "line": {
              "color": "#E5ECF6",
              "width": 0.5
             },
             "pattern": {
              "fillmode": "overlay",
              "size": 10,
              "solidity": 0.2
             }
            },
            "type": "bar"
           }
          ],
          "barpolar": [
           {
            "marker": {
             "line": {
              "color": "#E5ECF6",
              "width": 0.5
             },
             "pattern": {
              "fillmode": "overlay",
              "size": 10,
              "solidity": 0.2
             }
            },
            "type": "barpolar"
           }
          ],
          "carpet": [
           {
            "aaxis": {
             "endlinecolor": "#2a3f5f",
             "gridcolor": "white",
             "linecolor": "white",
             "minorgridcolor": "white",
             "startlinecolor": "#2a3f5f"
            },
            "baxis": {
             "endlinecolor": "#2a3f5f",
             "gridcolor": "white",
             "linecolor": "white",
             "minorgridcolor": "white",
             "startlinecolor": "#2a3f5f"
            },
            "type": "carpet"
           }
          ],
          "choropleth": [
           {
            "colorbar": {
             "outlinewidth": 0,
             "ticks": ""
            },
            "type": "choropleth"
           }
          ],
          "contour": [
           {
            "colorbar": {
             "outlinewidth": 0,
             "ticks": ""
            },
            "colorscale": [
             [
              0,
              "#0d0887"
             ],
             [
              0.1111111111111111,
              "#46039f"
             ],
             [
              0.2222222222222222,
              "#7201a8"
             ],
             [
              0.3333333333333333,
              "#9c179e"
             ],
             [
              0.4444444444444444,
              "#bd3786"
             ],
             [
              0.5555555555555556,
              "#d8576b"
             ],
             [
              0.6666666666666666,
              "#ed7953"
             ],
             [
              0.7777777777777778,
              "#fb9f3a"
             ],
             [
              0.8888888888888888,
              "#fdca26"
             ],
             [
              1,
              "#f0f921"
             ]
            ],
            "type": "contour"
           }
          ],
          "contourcarpet": [
           {
            "colorbar": {
             "outlinewidth": 0,
             "ticks": ""
            },
            "type": "contourcarpet"
           }
          ],
          "heatmap": [
           {
            "colorbar": {
             "outlinewidth": 0,
             "ticks": ""
            },
            "colorscale": [
             [
              0,
              "#0d0887"
             ],
             [
              0.1111111111111111,
              "#46039f"
             ],
             [
              0.2222222222222222,
              "#7201a8"
             ],
             [
              0.3333333333333333,
              "#9c179e"
             ],
             [
              0.4444444444444444,
              "#bd3786"
             ],
             [
              0.5555555555555556,
              "#d8576b"
             ],
             [
              0.6666666666666666,
              "#ed7953"
             ],
             [
              0.7777777777777778,
              "#fb9f3a"
             ],
             [
              0.8888888888888888,
              "#fdca26"
             ],
             [
              1,
              "#f0f921"
             ]
            ],
            "type": "heatmap"
           }
          ],
          "heatmapgl": [
           {
            "colorbar": {
             "outlinewidth": 0,
             "ticks": ""
            },
            "colorscale": [
             [
              0,
              "#0d0887"
             ],
             [
              0.1111111111111111,
              "#46039f"
             ],
             [
              0.2222222222222222,
              "#7201a8"
             ],
             [
              0.3333333333333333,
              "#9c179e"
             ],
             [
              0.4444444444444444,
              "#bd3786"
             ],
             [
              0.5555555555555556,
              "#d8576b"
             ],
             [
              0.6666666666666666,
              "#ed7953"
             ],
             [
              0.7777777777777778,
              "#fb9f3a"
             ],
             [
              0.8888888888888888,
              "#fdca26"
             ],
             [
              1,
              "#f0f921"
             ]
            ],
            "type": "heatmapgl"
           }
          ],
          "histogram": [
           {
            "marker": {
             "pattern": {
              "fillmode": "overlay",
              "size": 10,
              "solidity": 0.2
             }
            },
            "type": "histogram"
           }
          ],
          "histogram2d": [
           {
            "colorbar": {
             "outlinewidth": 0,
             "ticks": ""
            },
            "colorscale": [
             [
              0,
              "#0d0887"
             ],
             [
              0.1111111111111111,
              "#46039f"
             ],
             [
              0.2222222222222222,
              "#7201a8"
             ],
             [
              0.3333333333333333,
              "#9c179e"
             ],
             [
              0.4444444444444444,
              "#bd3786"
             ],
             [
              0.5555555555555556,
              "#d8576b"
             ],
             [
              0.6666666666666666,
              "#ed7953"
             ],
             [
              0.7777777777777778,
              "#fb9f3a"
             ],
             [
              0.8888888888888888,
              "#fdca26"
             ],
             [
              1,
              "#f0f921"
             ]
            ],
            "type": "histogram2d"
           }
          ],
          "histogram2dcontour": [
           {
            "colorbar": {
             "outlinewidth": 0,
             "ticks": ""
            },
            "colorscale": [
             [
              0,
              "#0d0887"
             ],
             [
              0.1111111111111111,
              "#46039f"
             ],
             [
              0.2222222222222222,
              "#7201a8"
             ],
             [
              0.3333333333333333,
              "#9c179e"
             ],
             [
              0.4444444444444444,
              "#bd3786"
             ],
             [
              0.5555555555555556,
              "#d8576b"
             ],
             [
              0.6666666666666666,
              "#ed7953"
             ],
             [
              0.7777777777777778,
              "#fb9f3a"
             ],
             [
              0.8888888888888888,
              "#fdca26"
             ],
             [
              1,
              "#f0f921"
             ]
            ],
            "type": "histogram2dcontour"
           }
          ],
          "mesh3d": [
           {
            "colorbar": {
             "outlinewidth": 0,
             "ticks": ""
            },
            "type": "mesh3d"
           }
          ],
          "parcoords": [
           {
            "line": {
             "colorbar": {
              "outlinewidth": 0,
              "ticks": ""
             }
            },
            "type": "parcoords"
           }
          ],
          "pie": [
           {
            "automargin": true,
            "type": "pie"
           }
          ],
          "scatter": [
           {
            "fillpattern": {
             "fillmode": "overlay",
             "size": 10,
             "solidity": 0.2
            },
            "type": "scatter"
           }
          ],
          "scatter3d": [
           {
            "line": {
             "colorbar": {
              "outlinewidth": 0,
              "ticks": ""
             }
            },
            "marker": {
             "colorbar": {
              "outlinewidth": 0,
              "ticks": ""
             }
            },
            "type": "scatter3d"
           }
          ],
          "scattercarpet": [
           {
            "marker": {
             "colorbar": {
              "outlinewidth": 0,
              "ticks": ""
             }
            },
            "type": "scattercarpet"
           }
          ],
          "scattergeo": [
           {
            "marker": {
             "colorbar": {
              "outlinewidth": 0,
              "ticks": ""
             }
            },
            "type": "scattergeo"
           }
          ],
          "scattergl": [
           {
            "marker": {
             "colorbar": {
              "outlinewidth": 0,
              "ticks": ""
             }
            },
            "type": "scattergl"
           }
          ],
          "scattermapbox": [
           {
            "marker": {
             "colorbar": {
              "outlinewidth": 0,
              "ticks": ""
             }
            },
            "type": "scattermapbox"
           }
          ],
          "scatterpolar": [
           {
            "marker": {
             "colorbar": {
              "outlinewidth": 0,
              "ticks": ""
             }
            },
            "type": "scatterpolar"
           }
          ],
          "scatterpolargl": [
           {
            "marker": {
             "colorbar": {
              "outlinewidth": 0,
              "ticks": ""
             }
            },
            "type": "scatterpolargl"
           }
          ],
          "scatterternary": [
           {
            "marker": {
             "colorbar": {
              "outlinewidth": 0,
              "ticks": ""
             }
            },
            "type": "scatterternary"
           }
          ],
          "surface": [
           {
            "colorbar": {
             "outlinewidth": 0,
             "ticks": ""
            },
            "colorscale": [
             [
              0,
              "#0d0887"
             ],
             [
              0.1111111111111111,
              "#46039f"
             ],
             [
              0.2222222222222222,
              "#7201a8"
             ],
             [
              0.3333333333333333,
              "#9c179e"
             ],
             [
              0.4444444444444444,
              "#bd3786"
             ],
             [
              0.5555555555555556,
              "#d8576b"
             ],
             [
              0.6666666666666666,
              "#ed7953"
             ],
             [
              0.7777777777777778,
              "#fb9f3a"
             ],
             [
              0.8888888888888888,
              "#fdca26"
             ],
             [
              1,
              "#f0f921"
             ]
            ],
            "type": "surface"
           }
          ],
          "table": [
           {
            "cells": {
             "fill": {
              "color": "#EBF0F8"
             },
             "line": {
              "color": "white"
             }
            },
            "header": {
             "fill": {
              "color": "#C8D4E3"
             },
             "line": {
              "color": "white"
             }
            },
            "type": "table"
           }
          ]
         },
         "layout": {
          "annotationdefaults": {
           "arrowcolor": "#2a3f5f",
           "arrowhead": 0,
           "arrowwidth": 1
          },
          "autotypenumbers": "strict",
          "coloraxis": {
           "colorbar": {
            "outlinewidth": 0,
            "ticks": ""
           }
          },
          "colorscale": {
           "diverging": [
            [
             0,
             "#8e0152"
            ],
            [
             0.1,
             "#c51b7d"
            ],
            [
             0.2,
             "#de77ae"
            ],
            [
             0.3,
             "#f1b6da"
            ],
            [
             0.4,
             "#fde0ef"
            ],
            [
             0.5,
             "#f7f7f7"
            ],
            [
             0.6,
             "#e6f5d0"
            ],
            [
             0.7,
             "#b8e186"
            ],
            [
             0.8,
             "#7fbc41"
            ],
            [
             0.9,
             "#4d9221"
            ],
            [
             1,
             "#276419"
            ]
           ],
           "sequential": [
            [
             0,
             "#0d0887"
            ],
            [
             0.1111111111111111,
             "#46039f"
            ],
            [
             0.2222222222222222,
             "#7201a8"
            ],
            [
             0.3333333333333333,
             "#9c179e"
            ],
            [
             0.4444444444444444,
             "#bd3786"
            ],
            [
             0.5555555555555556,
             "#d8576b"
            ],
            [
             0.6666666666666666,
             "#ed7953"
            ],
            [
             0.7777777777777778,
             "#fb9f3a"
            ],
            [
             0.8888888888888888,
             "#fdca26"
            ],
            [
             1,
             "#f0f921"
            ]
           ],
           "sequentialminus": [
            [
             0,
             "#0d0887"
            ],
            [
             0.1111111111111111,
             "#46039f"
            ],
            [
             0.2222222222222222,
             "#7201a8"
            ],
            [
             0.3333333333333333,
             "#9c179e"
            ],
            [
             0.4444444444444444,
             "#bd3786"
            ],
            [
             0.5555555555555556,
             "#d8576b"
            ],
            [
             0.6666666666666666,
             "#ed7953"
            ],
            [
             0.7777777777777778,
             "#fb9f3a"
            ],
            [
             0.8888888888888888,
             "#fdca26"
            ],
            [
             1,
             "#f0f921"
            ]
           ]
          },
          "colorway": [
           "#636efa",
           "#EF553B",
           "#00cc96",
           "#ab63fa",
           "#FFA15A",
           "#19d3f3",
           "#FF6692",
           "#B6E880",
           "#FF97FF",
           "#FECB52"
          ],
          "font": {
           "color": "#2a3f5f"
          },
          "geo": {
           "bgcolor": "white",
           "lakecolor": "white",
           "landcolor": "#E5ECF6",
           "showlakes": true,
           "showland": true,
           "subunitcolor": "white"
          },
          "hoverlabel": {
           "align": "left"
          },
          "hovermode": "closest",
          "mapbox": {
           "style": "light"
          },
          "paper_bgcolor": "white",
          "plot_bgcolor": "#E5ECF6",
          "polar": {
           "angularaxis": {
            "gridcolor": "white",
            "linecolor": "white",
            "ticks": ""
           },
           "bgcolor": "#E5ECF6",
           "radialaxis": {
            "gridcolor": "white",
            "linecolor": "white",
            "ticks": ""
           }
          },
          "scene": {
           "xaxis": {
            "backgroundcolor": "#E5ECF6",
            "gridcolor": "white",
            "gridwidth": 2,
            "linecolor": "white",
            "showbackground": true,
            "ticks": "",
            "zerolinecolor": "white"
           },
           "yaxis": {
            "backgroundcolor": "#E5ECF6",
            "gridcolor": "white",
            "gridwidth": 2,
            "linecolor": "white",
            "showbackground": true,
            "ticks": "",
            "zerolinecolor": "white"
           },
           "zaxis": {
            "backgroundcolor": "#E5ECF6",
            "gridcolor": "white",
            "gridwidth": 2,
            "linecolor": "white",
            "showbackground": true,
            "ticks": "",
            "zerolinecolor": "white"
           }
          },
          "shapedefaults": {
           "line": {
            "color": "#2a3f5f"
           }
          },
          "ternary": {
           "aaxis": {
            "gridcolor": "white",
            "linecolor": "white",
            "ticks": ""
           },
           "baxis": {
            "gridcolor": "white",
            "linecolor": "white",
            "ticks": ""
           },
           "bgcolor": "#E5ECF6",
           "caxis": {
            "gridcolor": "white",
            "linecolor": "white",
            "ticks": ""
           }
          },
          "title": {
           "x": 0.05
          },
          "xaxis": {
           "automargin": true,
           "gridcolor": "white",
           "linecolor": "white",
           "ticks": "",
           "title": {
            "standoff": 15
           },
           "zerolinecolor": "white",
           "zerolinewidth": 2
          },
          "yaxis": {
           "automargin": true,
           "gridcolor": "white",
           "linecolor": "white",
           "ticks": "",
           "title": {
            "standoff": 15
           },
           "zerolinecolor": "white",
           "zerolinewidth": 2
          }
         }
        },
        "title": {
         "font": {
          "color": "black",
          "family": "Helvetica",
          "size": 20
         },
         "text": "Heating Consumption for DE (2023 vs 2024)",
         "x": 0.5
        },
        "width": 1200,
        "xaxis": {
         "linecolor": "black",
         "linewidth": 1,
         "showgrid": false,
         "showline": true,
         "title": {
          "text": "Months"
         }
        },
        "yaxis": {
         "gridcolor": "lightgrey",
         "gridwidth": 1,
         "range": [
          0,
          42254497.59547383
         ],
         "showgrid": true,
         "showline": false,
         "title": {
          "standoff": 10
         }
        }
       }
      }
     },
     "metadata": {},
     "output_type": "display_data"
    }
   ],
   "source": [
    "import plotly.graph_objects as go\n",
    "import pandas as pd\n",
    "import numpy as np\n",
    "\n",
    "# Function to fill missing months with predictions based on previous data\n",
    "def generate_predictions(consumption_2024, consumption_2023):\n",
    "    # Generate predictions for missing months in 2024 using the last known value and trends from 2023\n",
    "    predictions = []\n",
    "    last_known_value = None\n",
    "    \n",
    "    for i in range(len(consumption_2024)):\n",
    "        if consumption_2024[i] is not None:\n",
    "            predictions.append(consumption_2024[i])\n",
    "            last_known_value = consumption_2024[i]\n",
    "        else:\n",
    "            if last_known_value is not None:\n",
    "                # For prediction, use the average of last known value in 2024 and the corresponding 2023 value\n",
    "                prediction = (last_known_value + (consumption_2023[i] if consumption_2023[i] is not None else 0)) / 2\n",
    "                predictions.append(prediction)\n",
    "            else:\n",
    "                predictions.append(None)  # If no known value in 2024, keep it as None\n",
    "    \n",
    "    return predictions\n",
    "\n",
    "# Function to plot both 2024 and 2023 data\n",
    "def plot_country_heating_consumption_with_2023(country_index, df_2024, df_2023):\n",
    "    # Get the 2024 data\n",
    "    country_2024 = df_2024.iloc[country_index]\n",
    "    country_name = country_2024['Country']\n",
    "    \n",
    "    # Define months abbreviations\n",
    "    months = ['Jan', 'Feb', 'Mar', 'Apr', 'May', 'Jun', 'Jul', 'Aug', 'Sep', 'Oct', 'Nov', 'Dec']\n",
    "    \n",
    "    # Extract 2024 heating consumption data and coverage percentages\n",
    "    consumption_2024 = [\n",
    "        country_2024.get('January Value', None),\n",
    "        country_2024.get('February Value', None),\n",
    "        country_2024.get('March Value', None),\n",
    "        country_2024.get('April Value', None),\n",
    "        country_2024.get('May Value', None),\n",
    "        country_2024.get('June Value', None),\n",
    "        country_2024.get('July Value', None),\n",
    "        country_2024.get('August Value', None),\n",
    "        country_2024.get('September Value', None),\n",
    "        country_2024.get('October Value', None),\n",
    "        country_2024.get('November Value', None),\n",
    "        country_2024.get('December Value', None)\n",
    "    ]\n",
    "\n",
    "    coverage_2024 = [\n",
    "        country_2024.get('January Coverage', 100),\n",
    "        country_2024.get('February Coverage', 100),\n",
    "        country_2024.get('March Coverage', 100),\n",
    "        country_2024.get('April Coverage', 100),\n",
    "        country_2024.get('May Coverage', 100),\n",
    "        country_2024.get('June Coverage', 100),\n",
    "        country_2024.get('July Coverage', 100),\n",
    "        country_2024.get('August Coverage', 100),\n",
    "        country_2024.get('September Coverage', 100),\n",
    "        country_2024.get('October Coverage', 100),\n",
    "        country_2024.get('November Coverage', 100),\n",
    "        country_2024.get('December Coverage', 100)\n",
    "    ]\n",
    "    \n",
    "    # Convert 2024 consumption to floats where available\n",
    "    consumption_2024 = [float(val.replace(',', '')) if isinstance(val, str) and val else None for val in consumption_2024]\n",
    "\n",
    "    # Calculate 100% estimated values based on coverage\n",
    "    consumption_2024_estimated = [val * 100 / coverage_2024[i] if val is not None and coverage_2024[i] != 100 else val for i, val in enumerate(consumption_2024)]\n",
    "\n",
    "    # Get the 2023 data\n",
    "    country_2023 = df_2023.iloc[country_index]\n",
    "\n",
    "    # Extract 2023 heating consumption data (assuming the structure matches 2024 for months)\n",
    "    consumption_2023 = [\n",
    "        country_2023.get('January Value', None),\n",
    "        country_2023.get('February Value', None),\n",
    "        country_2023.get('March Value', None),\n",
    "        country_2023.get('April Value', None),\n",
    "        country_2023.get('May Value', None),\n",
    "        country_2023.get('June Value', None),\n",
    "        country_2023.get('July Value', None),\n",
    "        country_2023.get('August Value', None),\n",
    "        country_2023.get('September Value', None),\n",
    "        country_2023.get('October Value', None),\n",
    "        country_2023.get('November Value', None),\n",
    "        country_2023.get('December Value', None)\n",
    "    ]\n",
    "    \n",
    "    # Convert 2023 consumption to floats where available\n",
    "    consumption_2023 = [float(val.replace(',', '')) if isinstance(val, str) and val else None for val in consumption_2023]\n",
    "\n",
    "    # Multiply by 1000 to convert to kWh\n",
    "    consumption_2023 = [val * 1000 if val is not None else None for val in consumption_2023]\n",
    "    \n",
    "    # Generate predictions for the missing months in 2024\n",
    "    consumption_2024_predicted = generate_predictions(consumption_2024, consumption_2023)\n",
    "\n",
    "    # Create the plot\n",
    "    fig = go.Figure()\n",
    "\n",
    "    # 2024 Bar chart for actual reported heating consumption\n",
    "    fig.add_trace(go.Bar(\n",
    "        x=months,\n",
    "        y=[consumption_2024[i] if consumption_2024[i] is not None else 0 for i in range(len(consumption_2024))],\n",
    "        name='Heating Consumption 2024 Reported',\n",
    "        marker_color='salmon',\n",
    "        width=0.4\n",
    "    ))\n",
    "\n",
    "    # Bar chart for estimated 100% coverage heating consumption with lighter shade\n",
    "    fig.add_trace(go.Bar(\n",
    "        x=months,\n",
    "        y=[consumption_2024_estimated[i] if consumption_2024[i] is not None and consumption_2024[i] != consumption_2024_estimated[i] else 0 for i in range(len(consumption_2024_estimated))],\n",
    "        name='Heating Consumption 2024 Estimated 100% Coverage',\n",
    "        marker_color='salmon',\n",
    "        width=0.4,\n",
    "        opacity=0.5  # Lighter shade for overlap\n",
    "    ))\n",
    "\n",
    "    # Bar chart for predicted heating consumption for missing months in 2024 with lighter shade\n",
    "    fig.add_trace(go.Bar(\n",
    "        x=months,\n",
    "        y=[consumption_2024_predicted[i] if consumption_2024[i] is None else 0 for i in range(len(consumption_2024_predicted))],\n",
    "        name='Heating Consumption 2024 (Predicted)',\n",
    "        marker_color='lightblue',\n",
    "        width=0.4,\n",
    "        opacity=0.5  # Lighter shade for predicted values\n",
    "    ))\n",
    "\n",
    "    # Spline trace for 2023 data\n",
    "    fig.add_trace(go.Scatter(\n",
    "        x=months,\n",
    "        y=consumption_2023,\n",
    "        mode='lines+markers',\n",
    "        name='Heating Consumption 2023',\n",
    "        line=dict(color='lightgrey', width=2),  # Light grey smooth line\n",
    "        marker=dict(symbol='circle', size=5, color='lightgrey'),  # Circle bullet points\n",
    "        line_shape='spline'  # This creates a smooth curve between points\n",
    "    ))\n",
    "\n",
    "    # Update the layout\n",
    "    fig.update_layout(\n",
    "        title=f'Heating Consumption for {country_name} (2023 vs 2024)',\n",
    "        title_x=0.5,\n",
    "        title_font=dict(size=20, color='black', family='Helvetica'),\n",
    "        xaxis_title='Months',\n",
    "        yaxis_title_standoff=10,\n",
    "        plot_bgcolor='white',\n",
    "        font=dict(size=14),\n",
    "        width=1200,  # Increased width for better visibility\n",
    "        height=600,\n",
    "        margin=dict(l=50, r=50, t=100, b=50),\n",
    "        bargap=0.5\n",
    "    )\n",
    "\n",
    "    # Adjust the y-axis range to provide a 10% margin above the highest value\n",
    "    max_consumption = max([val for val in consumption_2024_estimated + consumption_2023 if val is not None], default=0)\n",
    "    fig.update_yaxes(range=[0, max_consumption * 1.1])\n",
    "\n",
    "    # Define x-axis line and gridlines\n",
    "    fig.update_xaxes(showline=True, linecolor='black', linewidth=1, showgrid=False)\n",
    "    \n",
    "    # Set up vertical gridlines and y-axis properties\n",
    "    fig.update_yaxes(showline=False, showgrid=True, gridcolor='lightgrey', gridwidth=1)\n",
    "\n",
    "    # Annotate the top of the y-axis with 'kWh'\n",
    "    fig.add_annotation(text=\"kWh\", xref=\"paper\", yref=\"paper\", x=0, y=1.1, showarrow=False, font=dict(size=14))\n",
    "\n",
    "    # Show the figure\n",
    "    fig.show()\n",
    "\n",
    "# Example: Plotting for the second country (index 1)\n",
    "df_2024 = pd.read_csv('data_2024_new.csv')\n",
    "df_2023 = pd.read_csv('data_2023_new.csv')\n",
    "plot_country_heating_consumption_with_2023(1, df_2024, df_2023)\n"
   ]
  },
  {
   "cell_type": "code",
   "execution_count": 80,
   "metadata": {},
   "outputs": [
    {
     "data": {
      "application/vnd.plotly.v1+json": {
       "config": {
        "plotlyServerURL": "https://plot.ly"
       },
       "data": [
        {
         "marker": {
          "color": "salmon"
         },
         "name": "2024 Estimated 100% Coverage",
         "opacity": 0.5,
         "type": "bar",
         "width": 0.5,
         "x": [
          "Jan",
          "Feb",
          "Mar",
          "Apr",
          "May",
          "Jun",
          "Jul",
          "Aug",
          "Sep",
          "Oct",
          "Nov",
          "Dec"
         ],
         "y": [
          38413179.63224894,
          30554091.28065395,
          13994768.924302788,
          12437428.950863214,
          13523549.731182795,
          18651334.661354583,
          13011673.103448275,
          0,
          0,
          0,
          0,
          0
         ]
        },
        {
         "marker": {
          "color": "salmon"
         },
         "name": "2024 Reported",
         "opacity": 1,
         "type": "bar",
         "width": 0.5,
         "x": [
          "Jan",
          "Feb",
          "Mar",
          "Apr",
          "May",
          "Jun",
          "Jul",
          "Aug",
          "Sep",
          "Oct",
          "Nov",
          "Dec"
         ],
         "y": [
          27158118,
          22426703,
          10538061,
          9365384,
          10061521,
          14044455,
          9433463,
          0,
          0,
          0,
          0,
          0
         ]
        },
        {
         "marker": {
          "color": "lightblue"
         },
         "name": "2024 Estimated 100% Coverage Forecast",
         "opacity": 0.5,
         "type": "bar",
         "width": 0.5,
         "x": [
          "Jan",
          "Feb",
          "Mar",
          "Apr",
          "May",
          "Jun",
          "Jul",
          "Aug",
          "Sep",
          "Oct",
          "Nov",
          "Dec"
         ],
         "y": [
          0,
          0,
          0,
          0,
          0,
          0,
          0,
          9159381.551724138,
          10928411.551724138,
          13581956.551724138,
          15350986.551724138,
          17120016.551724136
         ]
        },
        {
         "line": {
          "color": "#B0B0B0",
          "shape": "spline",
          "width": 2
         },
         "marker": {
          "color": "#B0B0B0",
          "size": 5,
          "symbol": "circle"
         },
         "mode": "lines+markers",
         "name": "2023 Reported",
         "type": "scatter",
         "x": [
          "Jan",
          "Feb",
          "Mar",
          "Apr",
          "May",
          "Jun",
          "Jul",
          "Aug",
          "Sep",
          "Oct",
          "Nov",
          "Dec"
         ],
         "y": [
          28304480,
          28304480,
          22997390,
          12383210,
          8845150,
          5307090,
          3538060,
          5307090,
          8845150,
          14152240,
          17690300,
          21228360
         ]
        }
       ],
       "layout": {
        "annotations": [
         {
          "font": {
           "size": 14
          },
          "showarrow": false,
          "text": "kWh",
          "x": 0,
          "xref": "paper",
          "y": 1.1,
          "yref": "paper"
         }
        ],
        "bargap": 0.3,
        "barmode": "overlay",
        "font": {
         "size": 14
        },
        "height": 500,
        "margin": {
         "b": 50,
         "l": 50,
         "r": 50,
         "t": 100
        },
        "plot_bgcolor": "white",
        "template": {
         "data": {
          "bar": [
           {
            "error_x": {
             "color": "#2a3f5f"
            },
            "error_y": {
             "color": "#2a3f5f"
            },
            "marker": {
             "line": {
              "color": "#E5ECF6",
              "width": 0.5
             },
             "pattern": {
              "fillmode": "overlay",
              "size": 10,
              "solidity": 0.2
             }
            },
            "type": "bar"
           }
          ],
          "barpolar": [
           {
            "marker": {
             "line": {
              "color": "#E5ECF6",
              "width": 0.5
             },
             "pattern": {
              "fillmode": "overlay",
              "size": 10,
              "solidity": 0.2
             }
            },
            "type": "barpolar"
           }
          ],
          "carpet": [
           {
            "aaxis": {
             "endlinecolor": "#2a3f5f",
             "gridcolor": "white",
             "linecolor": "white",
             "minorgridcolor": "white",
             "startlinecolor": "#2a3f5f"
            },
            "baxis": {
             "endlinecolor": "#2a3f5f",
             "gridcolor": "white",
             "linecolor": "white",
             "minorgridcolor": "white",
             "startlinecolor": "#2a3f5f"
            },
            "type": "carpet"
           }
          ],
          "choropleth": [
           {
            "colorbar": {
             "outlinewidth": 0,
             "ticks": ""
            },
            "type": "choropleth"
           }
          ],
          "contour": [
           {
            "colorbar": {
             "outlinewidth": 0,
             "ticks": ""
            },
            "colorscale": [
             [
              0,
              "#0d0887"
             ],
             [
              0.1111111111111111,
              "#46039f"
             ],
             [
              0.2222222222222222,
              "#7201a8"
             ],
             [
              0.3333333333333333,
              "#9c179e"
             ],
             [
              0.4444444444444444,
              "#bd3786"
             ],
             [
              0.5555555555555556,
              "#d8576b"
             ],
             [
              0.6666666666666666,
              "#ed7953"
             ],
             [
              0.7777777777777778,
              "#fb9f3a"
             ],
             [
              0.8888888888888888,
              "#fdca26"
             ],
             [
              1,
              "#f0f921"
             ]
            ],
            "type": "contour"
           }
          ],
          "contourcarpet": [
           {
            "colorbar": {
             "outlinewidth": 0,
             "ticks": ""
            },
            "type": "contourcarpet"
           }
          ],
          "heatmap": [
           {
            "colorbar": {
             "outlinewidth": 0,
             "ticks": ""
            },
            "colorscale": [
             [
              0,
              "#0d0887"
             ],
             [
              0.1111111111111111,
              "#46039f"
             ],
             [
              0.2222222222222222,
              "#7201a8"
             ],
             [
              0.3333333333333333,
              "#9c179e"
             ],
             [
              0.4444444444444444,
              "#bd3786"
             ],
             [
              0.5555555555555556,
              "#d8576b"
             ],
             [
              0.6666666666666666,
              "#ed7953"
             ],
             [
              0.7777777777777778,
              "#fb9f3a"
             ],
             [
              0.8888888888888888,
              "#fdca26"
             ],
             [
              1,
              "#f0f921"
             ]
            ],
            "type": "heatmap"
           }
          ],
          "heatmapgl": [
           {
            "colorbar": {
             "outlinewidth": 0,
             "ticks": ""
            },
            "colorscale": [
             [
              0,
              "#0d0887"
             ],
             [
              0.1111111111111111,
              "#46039f"
             ],
             [
              0.2222222222222222,
              "#7201a8"
             ],
             [
              0.3333333333333333,
              "#9c179e"
             ],
             [
              0.4444444444444444,
              "#bd3786"
             ],
             [
              0.5555555555555556,
              "#d8576b"
             ],
             [
              0.6666666666666666,
              "#ed7953"
             ],
             [
              0.7777777777777778,
              "#fb9f3a"
             ],
             [
              0.8888888888888888,
              "#fdca26"
             ],
             [
              1,
              "#f0f921"
             ]
            ],
            "type": "heatmapgl"
           }
          ],
          "histogram": [
           {
            "marker": {
             "pattern": {
              "fillmode": "overlay",
              "size": 10,
              "solidity": 0.2
             }
            },
            "type": "histogram"
           }
          ],
          "histogram2d": [
           {
            "colorbar": {
             "outlinewidth": 0,
             "ticks": ""
            },
            "colorscale": [
             [
              0,
              "#0d0887"
             ],
             [
              0.1111111111111111,
              "#46039f"
             ],
             [
              0.2222222222222222,
              "#7201a8"
             ],
             [
              0.3333333333333333,
              "#9c179e"
             ],
             [
              0.4444444444444444,
              "#bd3786"
             ],
             [
              0.5555555555555556,
              "#d8576b"
             ],
             [
              0.6666666666666666,
              "#ed7953"
             ],
             [
              0.7777777777777778,
              "#fb9f3a"
             ],
             [
              0.8888888888888888,
              "#fdca26"
             ],
             [
              1,
              "#f0f921"
             ]
            ],
            "type": "histogram2d"
           }
          ],
          "histogram2dcontour": [
           {
            "colorbar": {
             "outlinewidth": 0,
             "ticks": ""
            },
            "colorscale": [
             [
              0,
              "#0d0887"
             ],
             [
              0.1111111111111111,
              "#46039f"
             ],
             [
              0.2222222222222222,
              "#7201a8"
             ],
             [
              0.3333333333333333,
              "#9c179e"
             ],
             [
              0.4444444444444444,
              "#bd3786"
             ],
             [
              0.5555555555555556,
              "#d8576b"
             ],
             [
              0.6666666666666666,
              "#ed7953"
             ],
             [
              0.7777777777777778,
              "#fb9f3a"
             ],
             [
              0.8888888888888888,
              "#fdca26"
             ],
             [
              1,
              "#f0f921"
             ]
            ],
            "type": "histogram2dcontour"
           }
          ],
          "mesh3d": [
           {
            "colorbar": {
             "outlinewidth": 0,
             "ticks": ""
            },
            "type": "mesh3d"
           }
          ],
          "parcoords": [
           {
            "line": {
             "colorbar": {
              "outlinewidth": 0,
              "ticks": ""
             }
            },
            "type": "parcoords"
           }
          ],
          "pie": [
           {
            "automargin": true,
            "type": "pie"
           }
          ],
          "scatter": [
           {
            "fillpattern": {
             "fillmode": "overlay",
             "size": 10,
             "solidity": 0.2
            },
            "type": "scatter"
           }
          ],
          "scatter3d": [
           {
            "line": {
             "colorbar": {
              "outlinewidth": 0,
              "ticks": ""
             }
            },
            "marker": {
             "colorbar": {
              "outlinewidth": 0,
              "ticks": ""
             }
            },
            "type": "scatter3d"
           }
          ],
          "scattercarpet": [
           {
            "marker": {
             "colorbar": {
              "outlinewidth": 0,
              "ticks": ""
             }
            },
            "type": "scattercarpet"
           }
          ],
          "scattergeo": [
           {
            "marker": {
             "colorbar": {
              "outlinewidth": 0,
              "ticks": ""
             }
            },
            "type": "scattergeo"
           }
          ],
          "scattergl": [
           {
            "marker": {
             "colorbar": {
              "outlinewidth": 0,
              "ticks": ""
             }
            },
            "type": "scattergl"
           }
          ],
          "scattermapbox": [
           {
            "marker": {
             "colorbar": {
              "outlinewidth": 0,
              "ticks": ""
             }
            },
            "type": "scattermapbox"
           }
          ],
          "scatterpolar": [
           {
            "marker": {
             "colorbar": {
              "outlinewidth": 0,
              "ticks": ""
             }
            },
            "type": "scatterpolar"
           }
          ],
          "scatterpolargl": [
           {
            "marker": {
             "colorbar": {
              "outlinewidth": 0,
              "ticks": ""
             }
            },
            "type": "scatterpolargl"
           }
          ],
          "scatterternary": [
           {
            "marker": {
             "colorbar": {
              "outlinewidth": 0,
              "ticks": ""
             }
            },
            "type": "scatterternary"
           }
          ],
          "surface": [
           {
            "colorbar": {
             "outlinewidth": 0,
             "ticks": ""
            },
            "colorscale": [
             [
              0,
              "#0d0887"
             ],
             [
              0.1111111111111111,
              "#46039f"
             ],
             [
              0.2222222222222222,
              "#7201a8"
             ],
             [
              0.3333333333333333,
              "#9c179e"
             ],
             [
              0.4444444444444444,
              "#bd3786"
             ],
             [
              0.5555555555555556,
              "#d8576b"
             ],
             [
              0.6666666666666666,
              "#ed7953"
             ],
             [
              0.7777777777777778,
              "#fb9f3a"
             ],
             [
              0.8888888888888888,
              "#fdca26"
             ],
             [
              1,
              "#f0f921"
             ]
            ],
            "type": "surface"
           }
          ],
          "table": [
           {
            "cells": {
             "fill": {
              "color": "#EBF0F8"
             },
             "line": {
              "color": "white"
             }
            },
            "header": {
             "fill": {
              "color": "#C8D4E3"
             },
             "line": {
              "color": "white"
             }
            },
            "type": "table"
           }
          ]
         },
         "layout": {
          "annotationdefaults": {
           "arrowcolor": "#2a3f5f",
           "arrowhead": 0,
           "arrowwidth": 1
          },
          "autotypenumbers": "strict",
          "coloraxis": {
           "colorbar": {
            "outlinewidth": 0,
            "ticks": ""
           }
          },
          "colorscale": {
           "diverging": [
            [
             0,
             "#8e0152"
            ],
            [
             0.1,
             "#c51b7d"
            ],
            [
             0.2,
             "#de77ae"
            ],
            [
             0.3,
             "#f1b6da"
            ],
            [
             0.4,
             "#fde0ef"
            ],
            [
             0.5,
             "#f7f7f7"
            ],
            [
             0.6,
             "#e6f5d0"
            ],
            [
             0.7,
             "#b8e186"
            ],
            [
             0.8,
             "#7fbc41"
            ],
            [
             0.9,
             "#4d9221"
            ],
            [
             1,
             "#276419"
            ]
           ],
           "sequential": [
            [
             0,
             "#0d0887"
            ],
            [
             0.1111111111111111,
             "#46039f"
            ],
            [
             0.2222222222222222,
             "#7201a8"
            ],
            [
             0.3333333333333333,
             "#9c179e"
            ],
            [
             0.4444444444444444,
             "#bd3786"
            ],
            [
             0.5555555555555556,
             "#d8576b"
            ],
            [
             0.6666666666666666,
             "#ed7953"
            ],
            [
             0.7777777777777778,
             "#fb9f3a"
            ],
            [
             0.8888888888888888,
             "#fdca26"
            ],
            [
             1,
             "#f0f921"
            ]
           ],
           "sequentialminus": [
            [
             0,
             "#0d0887"
            ],
            [
             0.1111111111111111,
             "#46039f"
            ],
            [
             0.2222222222222222,
             "#7201a8"
            ],
            [
             0.3333333333333333,
             "#9c179e"
            ],
            [
             0.4444444444444444,
             "#bd3786"
            ],
            [
             0.5555555555555556,
             "#d8576b"
            ],
            [
             0.6666666666666666,
             "#ed7953"
            ],
            [
             0.7777777777777778,
             "#fb9f3a"
            ],
            [
             0.8888888888888888,
             "#fdca26"
            ],
            [
             1,
             "#f0f921"
            ]
           ]
          },
          "colorway": [
           "#636efa",
           "#EF553B",
           "#00cc96",
           "#ab63fa",
           "#FFA15A",
           "#19d3f3",
           "#FF6692",
           "#B6E880",
           "#FF97FF",
           "#FECB52"
          ],
          "font": {
           "color": "#2a3f5f"
          },
          "geo": {
           "bgcolor": "white",
           "lakecolor": "white",
           "landcolor": "#E5ECF6",
           "showlakes": true,
           "showland": true,
           "subunitcolor": "white"
          },
          "hoverlabel": {
           "align": "left"
          },
          "hovermode": "closest",
          "mapbox": {
           "style": "light"
          },
          "paper_bgcolor": "white",
          "plot_bgcolor": "#E5ECF6",
          "polar": {
           "angularaxis": {
            "gridcolor": "white",
            "linecolor": "white",
            "ticks": ""
           },
           "bgcolor": "#E5ECF6",
           "radialaxis": {
            "gridcolor": "white",
            "linecolor": "white",
            "ticks": ""
           }
          },
          "scene": {
           "xaxis": {
            "backgroundcolor": "#E5ECF6",
            "gridcolor": "white",
            "gridwidth": 2,
            "linecolor": "white",
            "showbackground": true,
            "ticks": "",
            "zerolinecolor": "white"
           },
           "yaxis": {
            "backgroundcolor": "#E5ECF6",
            "gridcolor": "white",
            "gridwidth": 2,
            "linecolor": "white",
            "showbackground": true,
            "ticks": "",
            "zerolinecolor": "white"
           },
           "zaxis": {
            "backgroundcolor": "#E5ECF6",
            "gridcolor": "white",
            "gridwidth": 2,
            "linecolor": "white",
            "showbackground": true,
            "ticks": "",
            "zerolinecolor": "white"
           }
          },
          "shapedefaults": {
           "line": {
            "color": "#2a3f5f"
           }
          },
          "ternary": {
           "aaxis": {
            "gridcolor": "white",
            "linecolor": "white",
            "ticks": ""
           },
           "baxis": {
            "gridcolor": "white",
            "linecolor": "white",
            "ticks": ""
           },
           "bgcolor": "#E5ECF6",
           "caxis": {
            "gridcolor": "white",
            "linecolor": "white",
            "ticks": ""
           }
          },
          "title": {
           "x": 0.05
          },
          "xaxis": {
           "automargin": true,
           "gridcolor": "white",
           "linecolor": "white",
           "ticks": "",
           "title": {
            "standoff": 15
           },
           "zerolinecolor": "white",
           "zerolinewidth": 2
          },
          "yaxis": {
           "automargin": true,
           "gridcolor": "white",
           "linecolor": "white",
           "ticks": "",
           "title": {
            "standoff": 15
           },
           "zerolinecolor": "white",
           "zerolinewidth": 2
          }
         }
        },
        "title": {
         "font": {
          "color": "black",
          "family": "Helvetica",
          "size": 20
         },
         "text": "Heating Consumption for DE (2023 vs 2024)",
         "x": 0.5
        },
        "width": 1200,
        "xaxis": {
         "linecolor": "black",
         "linewidth": 1,
         "showgrid": false,
         "showline": true,
         "title": {
          "text": "Months"
         }
        },
        "yaxis": {
         "gridcolor": "lightgrey",
         "gridwidth": 1,
         "range": [
          0,
          42254497.59547383
         ],
         "showgrid": true,
         "showline": false,
         "title": {
          "standoff": 10
         }
        }
       }
      }
     },
     "metadata": {},
     "output_type": "display_data"
    }
   ],
   "source": [
    "import plotly.graph_objects as go\n",
    "import pandas as pd\n",
    "import numpy as np\n",
    "\n",
    "# Function to fill missing months with predictions based on previous data\n",
    "def generate_predictions(consumption_2024, consumption_2023):\n",
    "    # Generate predictions for missing months in 2024 using the last known value and trends from 2023\n",
    "    predictions = []\n",
    "    last_known_value = None\n",
    "    \n",
    "    for i in range(len(consumption_2024)):\n",
    "        if consumption_2024[i] is not None:\n",
    "            predictions.append(consumption_2024[i])\n",
    "            last_known_value = consumption_2024[i]\n",
    "        else:\n",
    "            if last_known_value is not None:\n",
    "                # For prediction, use the average of last known value in 2024 and the corresponding 2023 value\n",
    "                prediction = (last_known_value + (consumption_2023[i] if consumption_2023[i] is not None else 0)) / 2\n",
    "                predictions.append(prediction)\n",
    "            else:\n",
    "                predictions.append(None)  # If no known value in 2024, keep it as None\n",
    "    \n",
    "    return predictions\n",
    "\n",
    "# Function to plot both 2024 and 2023 data\n",
    "def plot_country_heating_consumption_with_2023(country_index, df_2024, df_2023):\n",
    "    # Get the 2024 data\n",
    "    country_2024 = df_2024.iloc[country_index]\n",
    "    country_name = country_2024['Country']\n",
    "    \n",
    "    # Define months abbreviations\n",
    "    months = ['Jan', 'Feb', 'Mar', 'Apr', 'May', 'Jun', 'Jul', 'Aug', 'Sep', 'Oct', 'Nov', 'Dec']\n",
    "    \n",
    "    # Extract 2024 heating consumption data and coverage percentages\n",
    "    consumption_2024 = [\n",
    "        country_2024.get('January Value', None),\n",
    "        country_2024.get('February Value', None),\n",
    "        country_2024.get('March Value', None),\n",
    "        country_2024.get('April Value', None),\n",
    "        country_2024.get('May Value', None),\n",
    "        country_2024.get('June Value', None),\n",
    "        country_2024.get('July Value', None),\n",
    "        country_2024.get('August Value', None),\n",
    "        country_2024.get('September Value', None),\n",
    "        country_2024.get('October Value', None),\n",
    "        country_2024.get('November Value', None),\n",
    "        country_2024.get('December Value', None)\n",
    "    ]\n",
    "\n",
    "    coverage_2024 = [\n",
    "        country_2024.get('January Coverage', 100),\n",
    "        country_2024.get('February Coverage', 100),\n",
    "        country_2024.get('March Coverage', 100),\n",
    "        country_2024.get('April Coverage', 100),\n",
    "        country_2024.get('May Coverage', 100),\n",
    "        country_2024.get('June Coverage', 100),\n",
    "        country_2024.get('July Coverage', 100),\n",
    "        country_2024.get('August Coverage', 100),\n",
    "        country_2024.get('September Coverage', 100),\n",
    "        country_2024.get('October Coverage', 100),\n",
    "        country_2024.get('November Coverage', 100),\n",
    "        country_2024.get('December Coverage', 100)\n",
    "    ]\n",
    "    \n",
    "    # Convert 2024 consumption to floats where available\n",
    "    consumption_2024 = [float(val.replace(',', '')) if isinstance(val, str) and val else None for val in consumption_2024]\n",
    "\n",
    "    # Calculate 100% estimated values based on coverage\n",
    "    consumption_2024_estimated = [val * 100 / coverage_2024[i] if val is not None and coverage_2024[i] != 100 else val for i, val in enumerate(consumption_2024)]\n",
    "\n",
    "    # Get the 2023 data\n",
    "    country_2023 = df_2023.iloc[country_index]\n",
    "\n",
    "    # Extract 2023 heating consumption data (assuming the structure matches 2024 for months)\n",
    "    consumption_2023 = [\n",
    "        country_2023.get('January Value', None),\n",
    "        country_2023.get('February Value', None),\n",
    "        country_2023.get('March Value', None),\n",
    "        country_2023.get('April Value', None),\n",
    "        country_2023.get('May Value', None),\n",
    "        country_2023.get('June Value', None),\n",
    "        country_2023.get('July Value', None),\n",
    "        country_2023.get('August Value', None),\n",
    "        country_2023.get('September Value', None),\n",
    "        country_2023.get('October Value', None),\n",
    "        country_2023.get('November Value', None),\n",
    "        country_2023.get('December Value', None)\n",
    "    ]\n",
    "\n",
    "    coverage_2023 = [\n",
    "        country_2023.get('January Coverage', 100),\n",
    "        country_2023.get('February Coverage', 100),\n",
    "        country_2023.get('March Coverage', 100),\n",
    "        country_2023.get('April Coverage', 100),\n",
    "        country_2023.get('May Coverage', 100),\n",
    "        country_2023.get('June Coverage', 100),\n",
    "        country_2023.get('July Coverage', 100),\n",
    "        country_2023.get('August Coverage', 100),\n",
    "        country_2023.get('September Coverage', 100),\n",
    "        country_2023.get('October Coverage', 100),\n",
    "        country_2023.get('November Coverage', 100),\n",
    "        country_2023.get('December Coverage', 100)\n",
    "    ]\n",
    "\n",
    "    # Convert 2023 consumption to floats where available\n",
    "    consumption_2023 = [float(val.replace(',', '')) if isinstance(val, str) and val else None for val in consumption_2023]\n",
    "\n",
    "    # Multiply by 1000 to convert to kWh\n",
    "    consumption_2023 = [val * 1000 if val is not None else None for val in consumption_2023]\n",
    "    consumption_2023_estimated = [val * 100 / coverage_2023[i] if val is not None and coverage_2023[i] != 100 else val for i, val in enumerate(consumption_2023)]\n",
    "    \n",
    "    # Generate predictions for the missing months in 2024\n",
    "    consumption_2024_predicted = generate_predictions(consumption_2024_estimated, consumption_2023)\n",
    "\n",
    "    # Create the plot\n",
    "    fig = go.Figure()\n",
    "\n",
    "    # Plot the estimated 100% coverage first (this will be overlapped by the reported values)\n",
    "    fig.add_trace(go.Bar(\n",
    "        x=months,\n",
    "        y=[consumption_2024_estimated[i] if consumption_2024[i] is not None and consumption_2024[i] != consumption_2024_estimated[i] else 0 for i in range(len(consumption_2024_estimated))],\n",
    "        name='2024 Estimated 100% Coverage',\n",
    "        marker_color='salmon',  # Lighter color for estimated values\n",
    "        width=0.5,\n",
    "        opacity=0.5  # Lighter shade for overlap\n",
    "    ))\n",
    "\n",
    "    # Plot the actual reported heating consumption on top of the estimated\n",
    "    fig.add_trace(go.Bar(\n",
    "        x=months,\n",
    "        y=[consumption_2024[i] if consumption_2024[i] is not None else 0 for i in range(len(consumption_2024))],\n",
    "        name='2024 Reported',\n",
    "        marker_color='salmon',\n",
    "        width=0.5,\n",
    "        opacity=1\n",
    "    ))\n",
    "\n",
    "    # Set bar mode to overlay for overlapping bars\n",
    "    fig.update_layout(barmode='overlay')\n",
    "\n",
    "    # Bar chart for predicted heating consumption for missing months in 2024 with lighter shade\n",
    "    fig.add_trace(go.Bar(\n",
    "        x=months,\n",
    "        y=[consumption_2024_predicted[i] if consumption_2024[i] is None else 0 for i in range(len(consumption_2024_predicted))],\n",
    "        name='2024 Estimated 100% Coverage Forecast',\n",
    "        marker_color='lightblue',\n",
    "        width=0.5,\n",
    "        opacity=0.5  # Lighter shade for predicted values\n",
    "    ))\n",
    "    \n",
    "    # Spline trace for 2023 data\n",
    "    fig.add_trace(go.Scatter(\n",
    "        x=months,\n",
    "        y=consumption_2023_estimated,\n",
    "        mode='lines+markers',\n",
    "        name='2023 Reported',\n",
    "        line=dict(color='#B0B0B0', width=2),  # Light grey smooth line\n",
    "        marker=dict(symbol='circle', size=5, color='#B0B0B0'),  # Circle bullet points\n",
    "        line_shape='spline'  # This creates a smooth curve between points\n",
    "    ))\n",
    "\n",
    "    # Update the layout\n",
    "    fig.update_layout(\n",
    "        title=f'Heating Consumption for {country_name} (2023 vs 2024)',\n",
    "        title_x=0.5,\n",
    "        title_font=dict(size=20, color='black', family='Helvetica'),\n",
    "        xaxis_title='Months',\n",
    "        yaxis_title_standoff=10,\n",
    "        plot_bgcolor='white',\n",
    "        font=dict(size=14),\n",
    "        width=1200,  # Increased width for better visibility\n",
    "        height=600,\n",
    "        margin=dict(l=50, r=50, t=100, b=50),\n",
    "        bargap=0.3  # Adjusted gap to make the overlapping bars clearer\n",
    "    )\n",
    "\n",
    "    # Adjust the y-axis range to provide a 10% margin above the highest value\n",
    "    max_consumption = max([val for val in consumption_2024_estimated + consumption_2023 if val is not None], default=0)\n",
    "    fig.update_yaxes(range=[0, max_consumption * 1.1])\n",
    "\n",
    "    # Define x-axis line and gridlines\n",
    "    fig.update_xaxes(showline=True, linecolor='black', linewidth=1, showgrid=False)\n",
    "    \n",
    "    # Set up vertical gridlines and y-axis properties\n",
    "    fig.update_yaxes(showline=False, showgrid=True, gridcolor='lightgrey', gridwidth=1)\n",
    "\n",
    "    # Annotate the top of the y-axis with 'kWh'\n",
    "    fig.add_annotation(text=\"kWh\", xref=\"paper\", yref=\"paper\", x=0, y=1.1, showarrow=False, font=dict(size=14))\n",
    "\n",
    "    # change figure size\n",
    "\n",
    "    fig.update_layout(\n",
    "        width=1200,\n",
    "        height=500\n",
    "    )\n",
    "\n",
    "    # Show the figure\n",
    "    fig.show()\n",
    "\n",
    "# Example: Plotting for the second country (index 1)\n",
    "df_2024 = pd.read_csv('data_2024_new.csv')\n",
    "df_2023 = pd.read_csv('data_2023_new.csv')\n",
    "plot_country_heating_consumption_with_2023(1, df_2024, df_2023)\n"
   ]
  },
  {
   "cell_type": "code",
   "execution_count": null,
   "metadata": {},
   "outputs": [],
   "source": []
  }
 ],
 "metadata": {
  "kernelspec": {
   "display_name": "Python 3",
   "language": "python",
   "name": "python3"
  },
  "language_info": {
   "codemirror_mode": {
    "name": "ipython",
    "version": 3
   },
   "file_extension": ".py",
   "mimetype": "text/x-python",
   "name": "python",
   "nbconvert_exporter": "python",
   "pygments_lexer": "ipython3",
   "version": "3.12.6"
  }
 },
 "nbformat": 4,
 "nbformat_minor": 2
}
