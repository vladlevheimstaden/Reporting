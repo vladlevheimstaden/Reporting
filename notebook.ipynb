{
 "cells": [
  {
   "cell_type": "code",
   "execution_count": 30,
   "metadata": {},
   "outputs": [],
   "source": [
    "import pandas as pd\n",
    "\n",
    "df_2024 = pd.read_csv('data/data_2024.csv')\n",
    "\n",
    "df_2023 = pd.read_csv('data/data_2023.csv')"
   ]
  },
  {
   "cell_type": "code",
   "execution_count": 1,
   "metadata": {},
   "outputs": [
    {
     "data": {
      "application/vnd.plotly.v1+json": {
       "config": {
        "plotlyServerURL": "https://plot.ly"
       },
       "data": [
        {
         "legendrank": 1,
         "line": {
          "color": "#007770",
          "shape": "spline",
          "width": 2
         },
         "marker": {
          "color": "#007770",
          "size": 5,
          "symbol": "circle"
         },
         "mode": "lines+markers",
         "name": "2023 Reported",
         "showlegend": true,
         "type": "scatter",
         "x": [
          "Jan",
          "Feb",
          "Mar",
          "Apr",
          "May",
          "Jun",
          "Jul",
          "Aug",
          "Sep",
          "Oct",
          "Nov",
          "Dec"
         ],
         "y": [
          28304.48,
          28304.48,
          22997.39,
          12383.21,
          8845.15,
          5307.09,
          3538.06,
          5307.09,
          8845.15,
          14152.24,
          17690.3,
          21228.36
         ]
        },
        {
         "legendrank": 3,
         "marker": {
          "color": "#FEA77F"
         },
         "name": "2024 Estimated up to 100% Coverage",
         "opacity": 1,
         "type": "bar",
         "width": 0.6,
         "x": [
          "Jan",
          "Feb",
          "Mar",
          "Apr",
          "May",
          "Jun",
          "Jul",
          "Aug",
          "Sep",
          "Oct",
          "Nov",
          "Dec"
         ],
         "y": [
          38413.17963224894,
          30554.09128065395,
          13994.768924302789,
          12437.428950863214,
          13523.549731182795,
          18651.334661354584,
          13011.673103448276,
          13348.79347826087,
          12134.93808630394,
          0,
          0,
          0
         ]
        },
        {
         "insidetextanchor": "middle",
         "legendrank": 2,
         "marker": {
          "color": "#FF824D"
         },
         "name": "2024 Reported with Meter Coverage",
         "opacity": 1,
         "text": [
          "70.7%",
          "73.4%",
          "75.3%",
          "75.3%",
          "74.4%",
          "75.3%",
          "72.5%",
          "64.4%",
          "53.3%",
          "",
          "",
          ""
         ],
         "textangle": 0,
         "textfont": {
          "color": "white",
          "family": "Figtree",
          "size": 8
         },
         "textposition": "inside",
         "type": "bar",
         "width": 0.6,
         "x": [
          "Jan",
          "Feb",
          "Mar",
          "Apr",
          "May",
          "Jun",
          "Jul",
          "Aug",
          "Sep",
          "Oct",
          "Nov",
          "Dec"
         ],
         "y": [
          27158.118,
          22426.703,
          10538.061,
          9365.384,
          10061.521,
          14044.455,
          9433.463,
          8596.623,
          6467.922,
          0,
          0,
          0
         ]
        },
        {
         "mode": "text",
         "showlegend": false,
         "text": [
          "<b>38K</b>",
          "<b>31K</b>",
          "<b>14K</b>",
          "<b>12K</b>",
          "<b>14K</b>",
          "<b>19K</b>",
          "<b>13K</b>",
          "<b>13K</b>",
          "<b>12K</b>",
          "",
          "",
          ""
         ],
         "textfont": {
          "color": "#44546A",
          "family": "Figtree",
          "size": 10,
          "weight": "bold"
         },
         "textposition": "top center",
         "type": "scatter",
         "x": [
          "Jan",
          "Feb",
          "Mar",
          "Apr",
          "May",
          "Jun",
          "Jul",
          "Aug",
          "Sep",
          "Oct",
          "Nov",
          "Dec"
         ],
         "y": [
          38413.17963224894,
          30554.09128065395,
          13994.768924302789,
          12437.428950863214,
          13523.549731182795,
          18651.334661354584,
          13011.673103448276,
          13348.79347826087,
          12134.93808630394,
          0,
          0,
          0
         ]
        },
        {
         "insidetextanchor": "middle",
         "legendrank": 4,
         "marker": {
          "color": "#F2EFEC"
         },
         "name": "2024 Forecast",
         "opacity": 1,
         "text": [
          "<b>17K</b>",
          "<b>21K</b>",
          "<b>25K</b>"
         ],
         "textfont": {
          "color": "#44546A",
          "family": "Figtree",
          "size": 10,
          "weight": "bold"
         },
         "textposition": "outside",
         "type": "bar",
         "width": 0.6,
         "x": [
          "Oct",
          "Nov",
          "Dec"
         ],
         "y": [
          17442.02808630394,
          20980.088086303942,
          24518.148086303943
         ]
        }
       ],
       "layout": {
        "annotations": [
         {
          "align": "left",
          "font": {
           "color": "#44546A",
           "family": "Figtree",
           "size": 10
          },
          "showarrow": false,
          "text": "<b>Total 2023: 176,903 MWh</b>&nbsp;&nbsp;&nbsp;&nbsp;&nbsp;&nbsp;<b>Total Estimated 2024: 229,010 MWh</b>&nbsp;&nbsp;&nbsp;&nbsp;&nbsp;&nbsp;<b>LY &#x2206; <span style='color:#FF0000;'>+29.46%</b>&nbsp;&nbsp;&nbsp;&nbsp;&nbsp;&nbsp;<b>Budget 2024: xxx MWh</b>&nbsp;&nbsp;&nbsp;&nbsp;&nbsp;&nbsp;<b>FC vs BU &#x2206; <span style='color:#00FF00;'>+xxx%</span></b>",
          "x": 0.01,
          "xref": "paper",
          "y": -0.25,
          "yref": "paper"
         }
        ],
        "bargap": 0.2,
        "barmode": "overlay",
        "font": {
         "color": "#44546A",
         "family": "Figtree",
         "size": 14
        },
        "height": 600,
        "legend": {
         "font": {
          "color": "#44546A",
          "size": 8
         },
         "orientation": "h",
         "x": 0.01,
         "xanchor": "left",
         "y": -0.175,
         "yanchor": "bottom"
        },
        "margin": {
         "b": 150,
         "l": 50,
         "r": 50,
         "t": 100
        },
        "plot_bgcolor": "white",
        "template": {
         "data": {
          "bar": [
           {
            "error_x": {
             "color": "#2a3f5f"
            },
            "error_y": {
             "color": "#2a3f5f"
            },
            "marker": {
             "line": {
              "color": "#E5ECF6",
              "width": 0.5
             },
             "pattern": {
              "fillmode": "overlay",
              "size": 10,
              "solidity": 0.2
             }
            },
            "type": "bar"
           }
          ],
          "barpolar": [
           {
            "marker": {
             "line": {
              "color": "#E5ECF6",
              "width": 0.5
             },
             "pattern": {
              "fillmode": "overlay",
              "size": 10,
              "solidity": 0.2
             }
            },
            "type": "barpolar"
           }
          ],
          "carpet": [
           {
            "aaxis": {
             "endlinecolor": "#2a3f5f",
             "gridcolor": "white",
             "linecolor": "white",
             "minorgridcolor": "white",
             "startlinecolor": "#2a3f5f"
            },
            "baxis": {
             "endlinecolor": "#2a3f5f",
             "gridcolor": "white",
             "linecolor": "white",
             "minorgridcolor": "white",
             "startlinecolor": "#2a3f5f"
            },
            "type": "carpet"
           }
          ],
          "choropleth": [
           {
            "colorbar": {
             "outlinewidth": 0,
             "ticks": ""
            },
            "type": "choropleth"
           }
          ],
          "contour": [
           {
            "colorbar": {
             "outlinewidth": 0,
             "ticks": ""
            },
            "colorscale": [
             [
              0,
              "#0d0887"
             ],
             [
              0.1111111111111111,
              "#46039f"
             ],
             [
              0.2222222222222222,
              "#7201a8"
             ],
             [
              0.3333333333333333,
              "#9c179e"
             ],
             [
              0.4444444444444444,
              "#bd3786"
             ],
             [
              0.5555555555555556,
              "#d8576b"
             ],
             [
              0.6666666666666666,
              "#ed7953"
             ],
             [
              0.7777777777777778,
              "#fb9f3a"
             ],
             [
              0.8888888888888888,
              "#fdca26"
             ],
             [
              1,
              "#f0f921"
             ]
            ],
            "type": "contour"
           }
          ],
          "contourcarpet": [
           {
            "colorbar": {
             "outlinewidth": 0,
             "ticks": ""
            },
            "type": "contourcarpet"
           }
          ],
          "heatmap": [
           {
            "colorbar": {
             "outlinewidth": 0,
             "ticks": ""
            },
            "colorscale": [
             [
              0,
              "#0d0887"
             ],
             [
              0.1111111111111111,
              "#46039f"
             ],
             [
              0.2222222222222222,
              "#7201a8"
             ],
             [
              0.3333333333333333,
              "#9c179e"
             ],
             [
              0.4444444444444444,
              "#bd3786"
             ],
             [
              0.5555555555555556,
              "#d8576b"
             ],
             [
              0.6666666666666666,
              "#ed7953"
             ],
             [
              0.7777777777777778,
              "#fb9f3a"
             ],
             [
              0.8888888888888888,
              "#fdca26"
             ],
             [
              1,
              "#f0f921"
             ]
            ],
            "type": "heatmap"
           }
          ],
          "heatmapgl": [
           {
            "colorbar": {
             "outlinewidth": 0,
             "ticks": ""
            },
            "colorscale": [
             [
              0,
              "#0d0887"
             ],
             [
              0.1111111111111111,
              "#46039f"
             ],
             [
              0.2222222222222222,
              "#7201a8"
             ],
             [
              0.3333333333333333,
              "#9c179e"
             ],
             [
              0.4444444444444444,
              "#bd3786"
             ],
             [
              0.5555555555555556,
              "#d8576b"
             ],
             [
              0.6666666666666666,
              "#ed7953"
             ],
             [
              0.7777777777777778,
              "#fb9f3a"
             ],
             [
              0.8888888888888888,
              "#fdca26"
             ],
             [
              1,
              "#f0f921"
             ]
            ],
            "type": "heatmapgl"
           }
          ],
          "histogram": [
           {
            "marker": {
             "pattern": {
              "fillmode": "overlay",
              "size": 10,
              "solidity": 0.2
             }
            },
            "type": "histogram"
           }
          ],
          "histogram2d": [
           {
            "colorbar": {
             "outlinewidth": 0,
             "ticks": ""
            },
            "colorscale": [
             [
              0,
              "#0d0887"
             ],
             [
              0.1111111111111111,
              "#46039f"
             ],
             [
              0.2222222222222222,
              "#7201a8"
             ],
             [
              0.3333333333333333,
              "#9c179e"
             ],
             [
              0.4444444444444444,
              "#bd3786"
             ],
             [
              0.5555555555555556,
              "#d8576b"
             ],
             [
              0.6666666666666666,
              "#ed7953"
             ],
             [
              0.7777777777777778,
              "#fb9f3a"
             ],
             [
              0.8888888888888888,
              "#fdca26"
             ],
             [
              1,
              "#f0f921"
             ]
            ],
            "type": "histogram2d"
           }
          ],
          "histogram2dcontour": [
           {
            "colorbar": {
             "outlinewidth": 0,
             "ticks": ""
            },
            "colorscale": [
             [
              0,
              "#0d0887"
             ],
             [
              0.1111111111111111,
              "#46039f"
             ],
             [
              0.2222222222222222,
              "#7201a8"
             ],
             [
              0.3333333333333333,
              "#9c179e"
             ],
             [
              0.4444444444444444,
              "#bd3786"
             ],
             [
              0.5555555555555556,
              "#d8576b"
             ],
             [
              0.6666666666666666,
              "#ed7953"
             ],
             [
              0.7777777777777778,
              "#fb9f3a"
             ],
             [
              0.8888888888888888,
              "#fdca26"
             ],
             [
              1,
              "#f0f921"
             ]
            ],
            "type": "histogram2dcontour"
           }
          ],
          "mesh3d": [
           {
            "colorbar": {
             "outlinewidth": 0,
             "ticks": ""
            },
            "type": "mesh3d"
           }
          ],
          "parcoords": [
           {
            "line": {
             "colorbar": {
              "outlinewidth": 0,
              "ticks": ""
             }
            },
            "type": "parcoords"
           }
          ],
          "pie": [
           {
            "automargin": true,
            "type": "pie"
           }
          ],
          "scatter": [
           {
            "fillpattern": {
             "fillmode": "overlay",
             "size": 10,
             "solidity": 0.2
            },
            "type": "scatter"
           }
          ],
          "scatter3d": [
           {
            "line": {
             "colorbar": {
              "outlinewidth": 0,
              "ticks": ""
             }
            },
            "marker": {
             "colorbar": {
              "outlinewidth": 0,
              "ticks": ""
             }
            },
            "type": "scatter3d"
           }
          ],
          "scattercarpet": [
           {
            "marker": {
             "colorbar": {
              "outlinewidth": 0,
              "ticks": ""
             }
            },
            "type": "scattercarpet"
           }
          ],
          "scattergeo": [
           {
            "marker": {
             "colorbar": {
              "outlinewidth": 0,
              "ticks": ""
             }
            },
            "type": "scattergeo"
           }
          ],
          "scattergl": [
           {
            "marker": {
             "colorbar": {
              "outlinewidth": 0,
              "ticks": ""
             }
            },
            "type": "scattergl"
           }
          ],
          "scattermapbox": [
           {
            "marker": {
             "colorbar": {
              "outlinewidth": 0,
              "ticks": ""
             }
            },
            "type": "scattermapbox"
           }
          ],
          "scatterpolar": [
           {
            "marker": {
             "colorbar": {
              "outlinewidth": 0,
              "ticks": ""
             }
            },
            "type": "scatterpolar"
           }
          ],
          "scatterpolargl": [
           {
            "marker": {
             "colorbar": {
              "outlinewidth": 0,
              "ticks": ""
             }
            },
            "type": "scatterpolargl"
           }
          ],
          "scatterternary": [
           {
            "marker": {
             "colorbar": {
              "outlinewidth": 0,
              "ticks": ""
             }
            },
            "type": "scatterternary"
           }
          ],
          "surface": [
           {
            "colorbar": {
             "outlinewidth": 0,
             "ticks": ""
            },
            "colorscale": [
             [
              0,
              "#0d0887"
             ],
             [
              0.1111111111111111,
              "#46039f"
             ],
             [
              0.2222222222222222,
              "#7201a8"
             ],
             [
              0.3333333333333333,
              "#9c179e"
             ],
             [
              0.4444444444444444,
              "#bd3786"
             ],
             [
              0.5555555555555556,
              "#d8576b"
             ],
             [
              0.6666666666666666,
              "#ed7953"
             ],
             [
              0.7777777777777778,
              "#fb9f3a"
             ],
             [
              0.8888888888888888,
              "#fdca26"
             ],
             [
              1,
              "#f0f921"
             ]
            ],
            "type": "surface"
           }
          ],
          "table": [
           {
            "cells": {
             "fill": {
              "color": "#EBF0F8"
             },
             "line": {
              "color": "white"
             }
            },
            "header": {
             "fill": {
              "color": "#C8D4E3"
             },
             "line": {
              "color": "white"
             }
            },
            "type": "table"
           }
          ]
         },
         "layout": {
          "annotationdefaults": {
           "arrowcolor": "#2a3f5f",
           "arrowhead": 0,
           "arrowwidth": 1
          },
          "autotypenumbers": "strict",
          "coloraxis": {
           "colorbar": {
            "outlinewidth": 0,
            "ticks": ""
           }
          },
          "colorscale": {
           "diverging": [
            [
             0,
             "#8e0152"
            ],
            [
             0.1,
             "#c51b7d"
            ],
            [
             0.2,
             "#de77ae"
            ],
            [
             0.3,
             "#f1b6da"
            ],
            [
             0.4,
             "#fde0ef"
            ],
            [
             0.5,
             "#f7f7f7"
            ],
            [
             0.6,
             "#e6f5d0"
            ],
            [
             0.7,
             "#b8e186"
            ],
            [
             0.8,
             "#7fbc41"
            ],
            [
             0.9,
             "#4d9221"
            ],
            [
             1,
             "#276419"
            ]
           ],
           "sequential": [
            [
             0,
             "#0d0887"
            ],
            [
             0.1111111111111111,
             "#46039f"
            ],
            [
             0.2222222222222222,
             "#7201a8"
            ],
            [
             0.3333333333333333,
             "#9c179e"
            ],
            [
             0.4444444444444444,
             "#bd3786"
            ],
            [
             0.5555555555555556,
             "#d8576b"
            ],
            [
             0.6666666666666666,
             "#ed7953"
            ],
            [
             0.7777777777777778,
             "#fb9f3a"
            ],
            [
             0.8888888888888888,
             "#fdca26"
            ],
            [
             1,
             "#f0f921"
            ]
           ],
           "sequentialminus": [
            [
             0,
             "#0d0887"
            ],
            [
             0.1111111111111111,
             "#46039f"
            ],
            [
             0.2222222222222222,
             "#7201a8"
            ],
            [
             0.3333333333333333,
             "#9c179e"
            ],
            [
             0.4444444444444444,
             "#bd3786"
            ],
            [
             0.5555555555555556,
             "#d8576b"
            ],
            [
             0.6666666666666666,
             "#ed7953"
            ],
            [
             0.7777777777777778,
             "#fb9f3a"
            ],
            [
             0.8888888888888888,
             "#fdca26"
            ],
            [
             1,
             "#f0f921"
            ]
           ]
          },
          "colorway": [
           "#636efa",
           "#EF553B",
           "#00cc96",
           "#ab63fa",
           "#FFA15A",
           "#19d3f3",
           "#FF6692",
           "#B6E880",
           "#FF97FF",
           "#FECB52"
          ],
          "font": {
           "color": "#2a3f5f"
          },
          "geo": {
           "bgcolor": "white",
           "lakecolor": "white",
           "landcolor": "#E5ECF6",
           "showlakes": true,
           "showland": true,
           "subunitcolor": "white"
          },
          "hoverlabel": {
           "align": "left"
          },
          "hovermode": "closest",
          "mapbox": {
           "style": "light"
          },
          "paper_bgcolor": "white",
          "plot_bgcolor": "#E5ECF6",
          "polar": {
           "angularaxis": {
            "gridcolor": "white",
            "linecolor": "white",
            "ticks": ""
           },
           "bgcolor": "#E5ECF6",
           "radialaxis": {
            "gridcolor": "white",
            "linecolor": "white",
            "ticks": ""
           }
          },
          "scene": {
           "xaxis": {
            "backgroundcolor": "#E5ECF6",
            "gridcolor": "white",
            "gridwidth": 2,
            "linecolor": "white",
            "showbackground": true,
            "ticks": "",
            "zerolinecolor": "white"
           },
           "yaxis": {
            "backgroundcolor": "#E5ECF6",
            "gridcolor": "white",
            "gridwidth": 2,
            "linecolor": "white",
            "showbackground": true,
            "ticks": "",
            "zerolinecolor": "white"
           },
           "zaxis": {
            "backgroundcolor": "#E5ECF6",
            "gridcolor": "white",
            "gridwidth": 2,
            "linecolor": "white",
            "showbackground": true,
            "ticks": "",
            "zerolinecolor": "white"
           }
          },
          "shapedefaults": {
           "line": {
            "color": "#2a3f5f"
           }
          },
          "ternary": {
           "aaxis": {
            "gridcolor": "white",
            "linecolor": "white",
            "ticks": ""
           },
           "baxis": {
            "gridcolor": "white",
            "linecolor": "white",
            "ticks": ""
           },
           "bgcolor": "#E5ECF6",
           "caxis": {
            "gridcolor": "white",
            "linecolor": "white",
            "ticks": ""
           }
          },
          "title": {
           "x": 0.05
          },
          "xaxis": {
           "automargin": true,
           "gridcolor": "white",
           "linecolor": "white",
           "ticks": "",
           "title": {
            "standoff": 15
           },
           "zerolinecolor": "white",
           "zerolinewidth": 2
          },
          "yaxis": {
           "automargin": true,
           "gridcolor": "white",
           "linecolor": "white",
           "ticks": "",
           "title": {
            "standoff": 15
           },
           "zerolinecolor": "white",
           "zerolinewidth": 2
          }
         }
        },
        "title": {
         "font": {
          "color": "#44546A",
          "family": "Figtree",
          "size": 20
         },
         "text": "Heating Consumption for DE (2023 vs 2024)",
         "x": 0.5,
         "xanchor": "center",
         "y": 0.95,
         "yanchor": "top"
        },
        "width": 700,
        "xaxis": {
         "linecolor": "#44546A",
         "linewidth": 0.75,
         "showgrid": false,
         "showline": true,
         "tickfont": {
          "color": "#44546A",
          "family": "Figtree",
          "size": 10
         },
         "title": {
          "font": {
           "color": "#44546A",
           "size": 8
          }
         }
        },
        "yaxis": {
         "gridcolor": "lightgrey",
         "gridwidth": 1,
         "range": [
          0,
          42254.49759547383
         ],
         "showgrid": true,
         "showline": false,
         "tickfont": {
          "color": "#44546A",
          "size": 8
         },
         "title": {
          "standoff": 10
         }
        }
       }
      }
     },
     "metadata": {},
     "output_type": "display_data"
    }
   ],
   "source": [
    "import plotly.graph_objects as go\n",
    "import pandas as pd\n",
    "import numpy as np\n",
    "\n",
    "def generate_predictions(consumption_2024, consumption_2023):\n",
    "    # Generate predictions for missing months in 2024 using the last known value, trends from 2023, and seasonality\n",
    "    predictions = []\n",
    "    last_known_value = None\n",
    "    \n",
    "    # Calculate average monthly change for 2023 as a seasonal trend\n",
    "    seasonality = [0] * len(consumption_2023)  # Initialize seasonality\n",
    "    for i in range(1, len(consumption_2023)):\n",
    "        if consumption_2023[i] is not None and consumption_2023[i-1] is not None:\n",
    "            seasonality[i] = consumption_2023[i] - consumption_2023[i-1]\n",
    "    \n",
    "    # Replace missing values in 2024 with predictions considering seasonality\n",
    "    for i in range(len(consumption_2024)):\n",
    "        if consumption_2024[i] is not None:\n",
    "            predictions.append(consumption_2024[i])\n",
    "            last_known_value = consumption_2024[i]\n",
    "        else:\n",
    "            if last_known_value is not None:\n",
    "                # For prediction, use the last known value and apply the seasonal component from 2023\n",
    "                seasonal_effect = seasonality[i] if consumption_2023[i] is not None else 0\n",
    "                prediction = last_known_value + seasonal_effect\n",
    "                predictions.append(prediction)\n",
    "                last_known_value = prediction\n",
    "            else:\n",
    "                predictions.append(None)  # If no known value in 2024, keep it as None\n",
    "    \n",
    "    return predictions\n",
    "\n",
    "\n",
    "# Function to plot both 2024 and 2023 data\n",
    "def plot_country_heating_consumption_with_2023(country_index, df_2024, df_2023):\n",
    "    # Get the 2024 data\n",
    "    country_2024 = df_2024.iloc[country_index]\n",
    "    country_name = country_2024['Country']\n",
    "    \n",
    "    # Define months abbreviations\n",
    "    months = ['Jan', 'Feb', 'Mar', 'Apr', 'May', 'Jun', 'Jul', 'Aug', 'Sep', 'Oct', 'Nov', 'Dec']\n",
    "    \n",
    "    # Extract 2024 heating consumption data and coverage percentages\n",
    "    consumption_2024 = [\n",
    "        country_2024.get('January Value', None),\n",
    "        country_2024.get('February Value', None),\n",
    "        country_2024.get('March Value', None),\n",
    "        country_2024.get('April Value', None),\n",
    "        country_2024.get('May Value', None),\n",
    "        country_2024.get('June Value', None),\n",
    "        country_2024.get('July Value', None),\n",
    "        country_2024.get('August Value', None),\n",
    "        country_2024.get('September Value', None),\n",
    "        country_2024.get('October Value', None),\n",
    "        country_2024.get('November Value', None),\n",
    "        country_2024.get('December Value', None)\n",
    "    ]\n",
    "\n",
    "    coverage_2024 = [\n",
    "        country_2024.get('January Coverage', 100),\n",
    "        country_2024.get('February Coverage', 100),\n",
    "        country_2024.get('March Coverage', 100),\n",
    "        country_2024.get('April Coverage', 100),\n",
    "        country_2024.get('May Coverage', 100),\n",
    "        country_2024.get('June Coverage', 100),\n",
    "        country_2024.get('July Coverage', 100),\n",
    "        country_2024.get('August Coverage', 100),\n",
    "        country_2024.get('September Coverage', 100),\n",
    "        country_2024.get('October Coverage', 100),\n",
    "        country_2024.get('November Coverage', 100),\n",
    "        country_2024.get('December Coverage', 100)\n",
    "    ]\n",
    "    \n",
    "    # Convert 2024 consumption to floats where available\n",
    "    consumption_2024 = [float(val.replace(',', '')) if isinstance(val, str) and val else None for val in consumption_2024]\n",
    "\n",
    "    # Calculate 100% estimated values based on coverage\n",
    "    consumption_2024_estimated = [val * 100 / coverage_2024[i] if val is not None and coverage_2024[i] != 100 else val for i, val in enumerate(consumption_2024)]\n",
    "\n",
    "    # Get the 2023 data\n",
    "    country_2023 = df_2023.iloc[country_index]\n",
    "\n",
    "    # Extract 2023 heating consumption data (assuming the structure matches 2024 for months)\n",
    "    consumption_2023 = [\n",
    "        country_2023.get('January Value', None),\n",
    "        country_2023.get('February Value', None),\n",
    "        country_2023.get('March Value', None),\n",
    "        country_2023.get('April Value', None),\n",
    "        country_2023.get('May Value', None),\n",
    "        country_2023.get('June Value', None),\n",
    "        country_2023.get('July Value', None),\n",
    "        country_2023.get('August Value', None),\n",
    "        country_2023.get('September Value', None),\n",
    "        country_2023.get('October Value', None),\n",
    "        country_2023.get('November Value', None),\n",
    "        country_2023.get('December Value', None)\n",
    "    ]\n",
    "\n",
    "    coverage_2023 = [\n",
    "        country_2023.get('January Coverage', 100),\n",
    "        country_2023.get('February Coverage', 100),\n",
    "        country_2023.get('March Coverage', 100),\n",
    "        country_2023.get('April Coverage', 100),\n",
    "        country_2023.get('May Coverage', 100),\n",
    "        country_2023.get('June Coverage', 100),\n",
    "        country_2023.get('July Coverage', 100),\n",
    "        country_2023.get('August Coverage', 100),\n",
    "        country_2023.get('September Coverage', 100),\n",
    "        country_2023.get('October Coverage', 100),\n",
    "        country_2023.get('November Coverage', 100),\n",
    "        country_2023.get('December Coverage', 100)\n",
    "    ]\n",
    "\n",
    "    # Convert 2023 consumption to floats where available\n",
    "    consumption_2023 = [float(val.replace(',', '')) if isinstance(val, str) and val else None for val in consumption_2023]\n",
    "\n",
    "    # Multiply by 1000 to convert to kWh\n",
    "    consumption_2023 = [val * 1000 if val is not None else None for val in consumption_2023]\n",
    "    consumption_2023_estimated = [val * 100 / coverage_2023[i] if val is not None and coverage_2023[i] != 100 else val for i, val in enumerate(consumption_2023)]\n",
    "\n",
    "    # Convert consumption values from kWh to MWh by dividing by 1000\n",
    "    consumption_2024 = [val / 1000 if val is not None else None for val in consumption_2024]\n",
    "    consumption_2024_estimated = [val / 1000 if val is not None else None for val in consumption_2024_estimated]\n",
    "    consumption_2023 = [val / 1000 if val is not None else None for val in consumption_2023]\n",
    "    consumption_2023_estimated = [val / 1000 if val is not None else None for val in consumption_2023_estimated]\n",
    "    \n",
    "    # Generate predictions for the missing months in 2024\n",
    "    consumption_2024_predicted = generate_predictions(consumption_2024_estimated, consumption_2023)\n",
    "\n",
    "    # Find the index where the estimated values end and predicted values start\n",
    "    estimated_end_index = next((i for i, val in enumerate(consumption_2024_estimated) if val is None), len(consumption_2024_estimated))\n",
    "\n",
    "    # Calculate total consumption for 2023 and 2024\n",
    "    total_consumption_2023 = sum([val for val in consumption_2023_estimated if val is not None])\n",
    "    total_consumption_2024 = sum([val for val in consumption_2024_estimated[:estimated_end_index] if val is not None]) + sum([val for val in consumption_2024_predicted[estimated_end_index:] if val is not None])\n",
    "    \n",
    "    # Calculate percentage change from 2023 to 2024\n",
    "    percentage_change = ((total_consumption_2024 - total_consumption_2023) / total_consumption_2023) * 100 if total_consumption_2023 != 0 else 0\n",
    "\n",
    "    # Create the plot\n",
    "    fig = go.Figure()\n",
    "\n",
    "    # Spline trace for 2023 data\n",
    "    fig.add_trace(go.Scatter(\n",
    "        legendrank=1,\n",
    "        showlegend=True,\n",
    "        x=months,\n",
    "        y=consumption_2023_estimated,\n",
    "        mode='lines+markers',\n",
    "        name='2023 Reported',\n",
    "        line=dict(color='#007770', width=2),  # Light grey smooth line\n",
    "        marker=dict(symbol='circle', size=5, color='#007770'),  # Circle bullet points\n",
    "        line_shape='spline'\n",
    "    ))\n",
    "\n",
    "    # Plot the estimated 100% coverage first (this will be overlapped by the reported values)\n",
    "    fig.add_trace(go.Bar(\n",
    "        legendrank=3,\n",
    "        x=months,\n",
    "        y=[consumption_2024_estimated[i] if consumption_2024[i] is not None and consumption_2024[i] != consumption_2024_estimated[i] else 0 for i in range(len(consumption_2024_estimated))],\n",
    "        name='2024 Estimated up to 100% Coverage',\n",
    "        marker_color='#FEA77F',  # Orange tone\n",
    "        width=0.6,\n",
    "        opacity=1,\n",
    "    ))\n",
    "\n",
    "    # Plot the actual reported heating consumption on top of the estimated\n",
    "    fig.add_trace(go.Bar(\n",
    "        legendrank=2,\n",
    "        x=months,\n",
    "        y=[consumption_2024[i] if consumption_2024[i] is not None else 0 for i in range(len(consumption_2024))],\n",
    "        name='2024 Reported with Meter Coverage',\n",
    "        marker_color='#FF824D', \n",
    "        text=[f'{coverage_2024[i]}%' if consumption_2024[i] is not None else '' for i in range(len(consumption_2024))],  # Add coverage percentages as text\n",
    "        textposition='inside',  # Position text inside the bars\n",
    "        textfont=dict(color='white', size=8, family='Figtree'),  # Set text color to white and adjust font size\n",
    "        insidetextanchor='middle',  # Ensure the text is centered inside the bar\n",
    "        textangle=0,  # Ensure text is straight/horizontal\n",
    "        width=0.6,\n",
    "        opacity=1\n",
    "    ))\n",
    "\n",
    "    # Add text value on top of the estimated bar if coverage is 100%\n",
    "    fig.add_trace(go.Scatter(\n",
    "        showlegend=False,  # Don't show this in the legend\n",
    "        x=months,\n",
    "        y=[consumption_2024_estimated[i] if consumption_2024_estimated[i] is not None else 0 for i in range(len(consumption_2024_estimated))],\n",
    "        mode='text',\n",
    "        text=[f'<b>{int(round(consumption_2024_estimated[i] / 1000))}K</b>' if consumption_2024_estimated[i] is not None and consumption_2024_estimated[i] >= 1000 else f'<b>{int(round(consumption_2024_estimated[i]))}</b>' if consumption_2024_estimated[i] is not None else '' for i in range(len(consumption_2024_estimated))],\n",
    "        textposition='top center',  # Position text outside the bars\n",
    "        textfont=dict(color='#44546A', size=10, family='Figtree', weight='bold'),\n",
    "    ))\n",
    "\n",
    "    # Set bar mode to overlay for overlapping bars\n",
    "    fig.update_layout(barmode='overlay')\n",
    "\n",
    "    # Bar chart for predicted heating consumption for missing months in 2024 with lighter shade\n",
    "    fig.add_trace(go.Bar(\n",
    "        legendrank=4,\n",
    "        x=[months[i] for i in range(len(consumption_2024_predicted)) if consumption_2024[i] is None],\n",
    "        y=[consumption_2024_predicted[i] for i in range(len(consumption_2024_predicted)) if consumption_2024[i] is None],\n",
    "        name='2024 Forecast',\n",
    "        marker_color='#F2EFEC',\n",
    "        width=0.6,\n",
    "        opacity=1,\n",
    "        text=[f'<b>{int(round(consumption_2024_predicted[i] / 1000))}K</b>' if consumption_2024_predicted[i] is not None and consumption_2024_predicted[i] >= 1000 else f'<b>{int(round(consumption_2024_predicted[i]))}</b>' if consumption_2024_predicted[i] is not None else '' for i in range(len(consumption_2024_predicted)) if consumption_2024[i] is None],\n",
    "        textposition='outside',  # Position text outside the bars\n",
    "        textfont=dict(size=10, color='#44546A', family='Figtree', weight='bold'),\n",
    "        insidetextanchor='middle'  # Ensure the text is centered inside the bar\n",
    "    ))\n",
    "\n",
    "    # Update the layout\n",
    "    fig.update_layout(\n",
    "        title={\n",
    "            'text': f'Heating Consumption for {country_name} (2023 vs 2024)',\n",
    "            'x': 0.5,  # Center the title\n",
    "            'y': 0.95,  # Adjust the vertical position of the title\n",
    "            'xanchor': 'center',  # Anchor the title at the center\n",
    "            'yanchor': 'top',  # Anchor the title at the top\n",
    "            'font': dict(size=20, family='Figtree', color='#44546A')  # Increase title font size if needed\n",
    "        },\n",
    "        yaxis_title_standoff=10,\n",
    "        plot_bgcolor='white',\n",
    "        font=dict(family='Figtree', size=14, color='#44546A'),\n",
    "        legend=dict(orientation='h', yanchor='bottom', y=-0.175, xanchor='left', x=0.01, font=dict(size=8, color='#44546A')), \n",
    "        width=700,  # Decreased width for better visibility\n",
    "        height=600,\n",
    "        margin=dict(l=50, r=50, t=100, b=150),  # Adjusted top margin to make the distance between the title and the graph smaller\n",
    "        bargap=0.2  # Adjusted gap to make the overlapping bars clearer\n",
    "    )\n",
    "\n",
    "    # Define x-axis line and gridlines\n",
    "    fig.update_yaxes(showline=False, showgrid=True, gridcolor='lightgrey', gridwidth=1, tickfont=dict(size=8, color='#44546A'))\n",
    "    fig.update_xaxes(showline=True, linecolor='#44546A', linewidth=0.75, showgrid=False, title_font=dict(size=8, color='#44546A'), tickfont=dict(size=10, family='Figtree', color='#44546A'))\n",
    "\n",
    "    # Define y position and spacing\n",
    "    y_position = -0.25\n",
    "\n",
    "    # Add total consumption and percentage change annotations at the bottom as one annotation\n",
    "    annotation_text = (\n",
    "        f\"<b>Total 2023: {total_consumption_2023:,.0f} MWh</b>&nbsp;&nbsp;&nbsp;&nbsp;&nbsp;&nbsp;\" +\n",
    "        f\"<b>Total Estimated 2024: {total_consumption_2024:,.0f} MWh</b>&nbsp;&nbsp;&nbsp;&nbsp;&nbsp;&nbsp;\" +\n",
    "        f\"<b>LY &#x2206; <span style='color:#FF0000;'>+{round(percentage_change, 2)}%</b>&nbsp;&nbsp;&nbsp;&nbsp;&nbsp;&nbsp;\" +\n",
    "        f\"<b>Budget 2024: xxx MWh</b>&nbsp;&nbsp;&nbsp;&nbsp;&nbsp;&nbsp;\" +\n",
    "        f\"<b>FC vs BU &#x2206; <span style='color:#00FF00;'>+xxx%</span></b>\"\n",
    "\n",
    "    )\n",
    "    fig.add_annotation(\n",
    "        text=annotation_text,\n",
    "        xref=\"paper\",\n",
    "        yref=\"paper\",\n",
    "        x=0.01,  # Center the annotation\n",
    "        y=y_position,\n",
    "        showarrow=False,\n",
    "        font=dict(size=10, color=\"#44546A\", family='Figtree'),\n",
    "        align=\"left\"\n",
    "    )\n",
    "\n",
    "    # Add a 0.1 margin to the y-axis based on the max point of the data\n",
    "    max_y_value = max(\n",
    "        max([float(x) for x in consumption_2023_estimated if x is not None]),\n",
    "        max([float(x) for x in consumption_2024_estimated if x is not None]),\n",
    "        max([float(x) for x in consumption_2024_predicted if x is not None])\n",
    "    )\n",
    "    fig.update_yaxes(range=[0, max_y_value * 1.1])\n",
    "    fig.write_image(f\"heating_conusmption_2023_vs_2024_{country_name}.png\", scale=5)\n",
    "    return fig\n",
    "\n",
    "# Example: Plotting for the second country (index 1)\n",
    "df_2024 = pd.read_csv('data/data_2024.csv')\n",
    "df_2023 = pd.read_csv('data/data_2023.csv')\n",
    "fig = plot_country_heating_consumption_with_2023(1, df_2024, df_2023)\n",
    "\n",
    "\n",
    "fig.show()"
   ]
  },
  {
   "cell_type": "code",
   "execution_count": 63,
   "metadata": {},
   "outputs": [],
   "source": [
    "fig.write_image(\"heating_conusmption_2023_vs_2024_finland.png\", scale=5)"
   ]
  }
 ],
 "metadata": {
  "kernelspec": {
   "display_name": "Python 3",
   "language": "python",
   "name": "python3"
  },
  "language_info": {
   "codemirror_mode": {
    "name": "ipython",
    "version": 3
   },
   "file_extension": ".py",
   "mimetype": "text/x-python",
   "name": "python",
   "nbconvert_exporter": "python",
   "pygments_lexer": "ipython3",
   "version": "3.12.6"
  }
 },
 "nbformat": 4,
 "nbformat_minor": 2
}
